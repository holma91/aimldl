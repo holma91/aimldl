{
 "cells": [
  {
   "cell_type": "code",
   "execution_count": 1,
   "id": "57fceec8-e0ef-4bf9-81af-ee256817aa2f",
   "metadata": {},
   "outputs": [],
   "source": [
    "from fastai.vision.all import *\n",
    "from fastbook import *\n",
    "\n",
    "matplotlib.rc('image', cmap='Greys')"
   ]
  },
  {
   "cell_type": "code",
   "execution_count": 2,
   "id": "44b62b3f-81b0-4652-922d-09ffcf8a4ac6",
   "metadata": {},
   "outputs": [],
   "source": [
    "path = untar_data(URLs.MNIST)"
   ]
  },
  {
   "cell_type": "code",
   "execution_count": 3,
   "id": "e28dd640-3c85-4424-a4af-47e02ebd9624",
   "metadata": {},
   "outputs": [],
   "source": [
    "Path.BASE_PATH = path"
   ]
  },
  {
   "cell_type": "code",
   "execution_count": 4,
   "id": "60de23a6-3cd5-4ecf-8a41-e79dbfe77134",
   "metadata": {},
   "outputs": [
    {
     "data": {
      "text/plain": [
       "(#2) [Path('training'),Path('testing')]"
      ]
     },
     "execution_count": 4,
     "metadata": {},
     "output_type": "execute_result"
    }
   ],
   "source": [
    "path.ls()"
   ]
  },
  {
   "cell_type": "code",
   "execution_count": 5,
   "id": "b12587c4-274a-47a1-a29d-7563b5a646ea",
   "metadata": {},
   "outputs": [
    {
     "data": {
      "text/plain": [
       "((#10) [Path('training/9'),Path('training/0'),Path('training/7'),Path('training/6'),Path('training/1'),Path('training/8'),Path('training/4'),Path('training/3'),Path('training/2'),Path('training/5')],\n",
       " (#10) [Path('testing/9'),Path('testing/0'),Path('testing/7'),Path('testing/6'),Path('testing/1'),Path('testing/8'),Path('testing/4'),Path('testing/3'),Path('testing/2'),Path('testing/5')])"
      ]
     },
     "execution_count": 5,
     "metadata": {},
     "output_type": "execute_result"
    }
   ],
   "source": [
    "(path/'training').ls(), (path/'testing').ls()"
   ]
  },
  {
   "cell_type": "code",
   "execution_count": 6,
   "id": "39d69bd4-5fb2-4f18-ae82-e61c703ada1f",
   "metadata": {},
   "outputs": [],
   "source": [
    "# list with every list at each index\n",
    "# numbers = []\n",
    "# for i in range(10):\n",
    "#    numbers.append((path/'training'/f\"{i}\").ls().sorted())"
   ]
  },
  {
   "cell_type": "code",
   "execution_count": 7,
   "id": "2255bb26-d500-4847-948d-53b85a2da0d4",
   "metadata": {},
   "outputs": [],
   "source": [
    "# with dict and list comprehensions, will look like:\n",
    "# numbers = {training: [paths...], testing: [paths...]}\n",
    "number_paths = {key: [(path/f\"{key}\"/f\"{i}\").ls().sorted() for i in range(10)] for key in ['training', 'testing']}"
   ]
  },
  {
   "cell_type": "code",
   "execution_count": 8,
   "id": "52e66913-ef70-462f-86e6-7b3da76d364d",
   "metadata": {},
   "outputs": [
    {
     "data": {
      "image/png": "[encoded data removed]",
      "text/plain": [
       "<PIL.PngImagePlugin.PngImageFile image mode=L size=28x28>"
      ]
     },
     "execution_count": 8,
     "metadata": {},
     "output_type": "execute_result"
    }
   ],
   "source": [
    "# look at random 4\n",
    "im4_path = number_paths['training'][4][0]\n",
    "im4 = Image.open(im4_path)\n",
    "im4"
   ]
  },
  {
   "cell_type": "code",
   "execution_count": 9,
   "id": "f5bc864f-95db-41b4-a620-fad0313282b8",
   "metadata": {},
   "outputs": [
    {
     "data": {
      "text/html": [
       "<style type=\"text/css\">\n",
       "#T_0ee78_row0_col0, #T_0ee78_row0_col1, #T_0ee78_row0_col2, #T_0ee78_row0_col3, #T_0ee78_row0_col4, #T_0ee78_row0_col5, #T_0ee78_row0_col6, #T_0ee78_row0_col7, #T_0ee78_row0_col8, #T_0ee78_row0_col9, #T_0ee78_row0_col10, #T_0ee78_row0_col11, #T_0ee78_row0_col12, #T_0ee78_row0_col13, #T_0ee78_row0_col14, #T_0ee78_row0_col15, #T_0ee78_row0_col16, #T_0ee78_row0_col17, #T_0ee78_row0_col18, #T_0ee78_row0_col19, #T_0ee78_row0_col24, #T_0ee78_row0_col25, #T_0ee78_row0_col26, #T_0ee78_row0_col27, #T_0ee78_row1_col0, #T_0ee78_row1_col1, #T_0ee78_row1_col2, #T_0ee78_row1_col3, #T_0ee78_row1_col4, #T_0ee78_row1_col5, #T_0ee78_row1_col6, #T_0ee78_row1_col7, #T_0ee78_row1_col8, #T_0ee78_row1_col9, #T_0ee78_row1_col10, #T_0ee78_row1_col11, #T_0ee78_row1_col12, #T_0ee78_row1_col13, #T_0ee78_row1_col14, #T_0ee78_row1_col15, #T_0ee78_row1_col16, #T_0ee78_row1_col17, #T_0ee78_row1_col18, #T_0ee78_row1_col19, #T_0ee78_row1_col24, #T_0ee78_row1_col25, #T_0ee78_row1_col26, #T_0ee78_row1_col27, #T_0ee78_row2_col0, #T_0ee78_row2_col1, #T_0ee78_row2_col2, #T_0ee78_row2_col3, #T_0ee78_row2_col4, #T_0ee78_row2_col5, #T_0ee78_row2_col6, #T_0ee78_row2_col7, #T_0ee78_row2_col8, #T_0ee78_row2_col9, #T_0ee78_row2_col10, #T_0ee78_row2_col11, #T_0ee78_row2_col12, #T_0ee78_row2_col13, #T_0ee78_row2_col14, #T_0ee78_row2_col15, #T_0ee78_row2_col16, #T_0ee78_row2_col17, #T_0ee78_row2_col18, #T_0ee78_row2_col24, #T_0ee78_row2_col25, #T_0ee78_row2_col26, #T_0ee78_row2_col27, #T_0ee78_row3_col0, #T_0ee78_row3_col1, #T_0ee78_row3_col2, #T_0ee78_row3_col3, #T_0ee78_row3_col4, #T_0ee78_row3_col5, #T_0ee78_row3_col6, #T_0ee78_row3_col9, #T_0ee78_row3_col10, #T_0ee78_row3_col11, #T_0ee78_row3_col12, #T_0ee78_row3_col13, #T_0ee78_row3_col14, #T_0ee78_row3_col15, #T_0ee78_row3_col16, #T_0ee78_row3_col17, #T_0ee78_row3_col23, #T_0ee78_row3_col24, #T_0ee78_row3_col25, #T_0ee78_row3_col26, #T_0ee78_row3_col27, #T_0ee78_row4_col0, #T_0ee78_row4_col1, #T_0ee78_row4_col2, #T_0ee78_row4_col3, #T_0ee78_row4_col4, #T_0ee78_row4_col5, #T_0ee78_row4_col10, #T_0ee78_row4_col11, #T_0ee78_row4_col12, #T_0ee78_row4_col13, #T_0ee78_row4_col14, #T_0ee78_row4_col15, #T_0ee78_row4_col16, #T_0ee78_row4_col17, #T_0ee78_row4_col23, #T_0ee78_row4_col24, #T_0ee78_row4_col25, #T_0ee78_row4_col26, #T_0ee78_row4_col27, #T_0ee78_row5_col0, #T_0ee78_row5_col1, #T_0ee78_row5_col2, #T_0ee78_row5_col3, #T_0ee78_row5_col4, #T_0ee78_row5_col5, #T_0ee78_row5_col10, #T_0ee78_row5_col11, #T_0ee78_row5_col12, #T_0ee78_row5_col13, #T_0ee78_row5_col14, #T_0ee78_row5_col15, #T_0ee78_row5_col16, #T_0ee78_row5_col22, #T_0ee78_row5_col23, #T_0ee78_row5_col24, #T_0ee78_row5_col25, #T_0ee78_row5_col26, #T_0ee78_row5_col27, #T_0ee78_row6_col0, #T_0ee78_row6_col1, #T_0ee78_row6_col2, #T_0ee78_row6_col3, #T_0ee78_row6_col4, #T_0ee78_row6_col5, #T_0ee78_row6_col10, #T_0ee78_row6_col11, #T_0ee78_row6_col12, #T_0ee78_row6_col13, #T_0ee78_row6_col14, #T_0ee78_row6_col15, #T_0ee78_row6_col16, #T_0ee78_row6_col22, #T_0ee78_row6_col23, #T_0ee78_row6_col24, #T_0ee78_row6_col25, #T_0ee78_row6_col26, #T_0ee78_row6_col27, #T_0ee78_row7_col0, #T_0ee78_row7_col1, #T_0ee78_row7_col2, #T_0ee78_row7_col3, #T_0ee78_row7_col4, #T_0ee78_row7_col10, #T_0ee78_row7_col11, #T_0ee78_row7_col12, #T_0ee78_row7_col13, #T_0ee78_row7_col14, #T_0ee78_row7_col15, #T_0ee78_row7_col16, #T_0ee78_row7_col20, #T_0ee78_row7_col21, #T_0ee78_row7_col22, #T_0ee78_row7_col23, #T_0ee78_row7_col24, #T_0ee78_row7_col25, #T_0ee78_row7_col26, #T_0ee78_row7_col27, #T_0ee78_row8_col0, #T_0ee78_row8_col1, #T_0ee78_row8_col2, #T_0ee78_row8_col3, #T_0ee78_row8_col13, #T_0ee78_row8_col14, #T_0ee78_row8_col15, #T_0ee78_row8_col20, #T_0ee78_row8_col21, #T_0ee78_row8_col22, #T_0ee78_row8_col23, #T_0ee78_row8_col24, #T_0ee78_row8_col25, #T_0ee78_row8_col26, #T_0ee78_row8_col27, #T_0ee78_row9_col0, #T_0ee78_row9_col1, #T_0ee78_row9_col2, #T_0ee78_row9_col3, #T_0ee78_row9_col20, #T_0ee78_row9_col21, #T_0ee78_row9_col22, #T_0ee78_row9_col23, #T_0ee78_row9_col24, #T_0ee78_row9_col25, #T_0ee78_row9_col26, #T_0ee78_row9_col27, #T_0ee78_row10_col0, #T_0ee78_row10_col1, #T_0ee78_row10_col2, #T_0ee78_row10_col3, #T_0ee78_row10_col20, #T_0ee78_row10_col21, #T_0ee78_row10_col22, #T_0ee78_row10_col23, #T_0ee78_row10_col24, #T_0ee78_row10_col25, #T_0ee78_row10_col26, #T_0ee78_row10_col27, #T_0ee78_row11_col0, #T_0ee78_row11_col1, #T_0ee78_row11_col2, #T_0ee78_row11_col3, #T_0ee78_row11_col19, #T_0ee78_row11_col20, #T_0ee78_row11_col21, #T_0ee78_row11_col22, #T_0ee78_row11_col23, #T_0ee78_row11_col24, #T_0ee78_row11_col25, #T_0ee78_row11_col26, #T_0ee78_row11_col27, #T_0ee78_row12_col0, #T_0ee78_row12_col1, #T_0ee78_row12_col2, #T_0ee78_row12_col3, #T_0ee78_row12_col12, #T_0ee78_row12_col13, #T_0ee78_row12_col19, #T_0ee78_row12_col20, #T_0ee78_row12_col21, #T_0ee78_row12_col22, #T_0ee78_row12_col23, #T_0ee78_row12_col24, #T_0ee78_row12_col25, #T_0ee78_row12_col26, #T_0ee78_row12_col27 {\n",
       "  font-size: 6pt;\n",
       "  background-color: #ffffff;\n",
       "  color: #000000;\n",
       "}\n",
       "#T_0ee78_row0_col20, #T_0ee78_row4_col6 {\n",
       "  font-size: 6pt;\n",
       "  background-color: #f0f0f0;\n",
       "  color: #000000;\n",
       "}\n",
       "#T_0ee78_row0_col21 {\n",
       "  font-size: 6pt;\n",
       "  background-color: #383838;\n",
       "  color: #f1f1f1;\n",
       "}\n",
       "#T_0ee78_row0_col22, #T_0ee78_row1_col21, #T_0ee78_row1_col22, #T_0ee78_row1_col23, #T_0ee78_row2_col20, #T_0ee78_row2_col21, #T_0ee78_row2_col22, #T_0ee78_row3_col20, #T_0ee78_row3_col21, #T_0ee78_row4_col20, #T_0ee78_row5_col20, #T_0ee78_row7_col6, #T_0ee78_row7_col7, #T_0ee78_row7_col18, #T_0ee78_row7_col19, #T_0ee78_row9_col11, #T_0ee78_row10_col4, #T_0ee78_row10_col11, #T_0ee78_row10_col12, #T_0ee78_row10_col13, #T_0ee78_row10_col14, #T_0ee78_row11_col5, #T_0ee78_row11_col6, #T_0ee78_row11_col7, #T_0ee78_row11_col8, #T_0ee78_row11_col9, #T_0ee78_row11_col10, #T_0ee78_row11_col15, #T_0ee78_row11_col16, #T_0ee78_row11_col17 {\n",
       "  font-size: 6pt;\n",
       "  background-color: #000000;\n",
       "  color: #f1f1f1;\n",
       "}\n",
       "#T_0ee78_row0_col23 {\n",
       "  font-size: 6pt;\n",
       "  background-color: #7d7d7d;\n",
       "  color: #f1f1f1;\n",
       "}\n",
       "#T_0ee78_row1_col20 {\n",
       "  font-size: 6pt;\n",
       "  background-color: #323232;\n",
       "  color: #f1f1f1;\n",
       "}\n",
       "#T_0ee78_row2_col19 {\n",
       "  font-size: 6pt;\n",
       "  background-color: #c7c7c7;\n",
       "  color: #000000;\n",
       "}\n",
       "#T_0ee78_row2_col23 {\n",
       "  font-size: 6pt;\n",
       "  background-color: #686868;\n",
       "  color: #f1f1f1;\n",
       "}\n",
       "#T_0ee78_row3_col7, #T_0ee78_row3_col8 {\n",
       "  font-size: 6pt;\n",
       "  background-color: #dadada;\n",
       "  color: #000000;\n",
       "}\n",
       "#T_0ee78_row3_col18 {\n",
       "  font-size: 6pt;\n",
       "  background-color: #b8b8b8;\n",
       "  color: #000000;\n",
       "}\n",
       "#T_0ee78_row3_col19, #T_0ee78_row4_col19, #T_0ee78_row5_col7, #T_0ee78_row5_col8, #T_0ee78_row5_col19, #T_0ee78_row6_col7, #T_0ee78_row6_col8, #T_0ee78_row6_col18, #T_0ee78_row6_col19, #T_0ee78_row8_col6, #T_0ee78_row8_col7, #T_0ee78_row8_col18, #T_0ee78_row8_col19, #T_0ee78_row9_col5, #T_0ee78_row9_col6, #T_0ee78_row9_col7, #T_0ee78_row9_col8, #T_0ee78_row9_col9, #T_0ee78_row9_col10, #T_0ee78_row9_col17, #T_0ee78_row9_col18, #T_0ee78_row10_col5, #T_0ee78_row10_col6, #T_0ee78_row10_col7, #T_0ee78_row10_col8, #T_0ee78_row10_col9, #T_0ee78_row10_col10, #T_0ee78_row10_col15, #T_0ee78_row10_col17, #T_0ee78_row10_col18, #T_0ee78_row12_col15, #T_0ee78_row12_col17 {\n",
       "  font-size: 6pt;\n",
       "  background-color: #010101;\n",
       "  color: #f1f1f1;\n",
       "}\n",
       "#T_0ee78_row3_col22, #T_0ee78_row11_col18 {\n",
       "  font-size: 6pt;\n",
       "  background-color: #787878;\n",
       "  color: #f1f1f1;\n",
       "}\n",
       "#T_0ee78_row4_col7, #T_0ee78_row4_col8 {\n",
       "  font-size: 6pt;\n",
       "  background-color: #131313;\n",
       "  color: #f1f1f1;\n",
       "}\n",
       "#T_0ee78_row4_col9 {\n",
       "  font-size: 6pt;\n",
       "  background-color: #d2d2d2;\n",
       "  color: #000000;\n",
       "}\n",
       "#T_0ee78_row4_col18, #T_0ee78_row6_col6, #T_0ee78_row9_col13, #T_0ee78_row9_col14, #T_0ee78_row9_col15 {\n",
       "  font-size: 6pt;\n",
       "  background-color: #5b5b5b;\n",
       "  color: #f1f1f1;\n",
       "}\n",
       "#T_0ee78_row4_col21 {\n",
       "  font-size: 6pt;\n",
       "  background-color: #515151;\n",
       "  color: #f1f1f1;\n",
       "}\n",
       "#T_0ee78_row4_col22 {\n",
       "  font-size: 6pt;\n",
       "  background-color: #fafafa;\n",
       "  color: #000000;\n",
       "}\n",
       "#T_0ee78_row5_col6, #T_0ee78_row8_col4 {\n",
       "  font-size: 6pt;\n",
       "  background-color: #878787;\n",
       "  color: #f1f1f1;\n",
       "}\n",
       "#T_0ee78_row5_col9 {\n",
       "  font-size: 6pt;\n",
       "  background-color: #737373;\n",
       "  color: #f1f1f1;\n",
       "}\n",
       "#T_0ee78_row5_col17 {\n",
       "  font-size: 6pt;\n",
       "  background-color: #e1e1e1;\n",
       "  color: #000000;\n",
       "}\n",
       "#T_0ee78_row5_col18 {\n",
       "  font-size: 6pt;\n",
       "  background-color: #181818;\n",
       "  color: #f1f1f1;\n",
       "}\n",
       "#T_0ee78_row5_col21 {\n",
       "  font-size: 6pt;\n",
       "  background-color: #cdcdcd;\n",
       "  color: #000000;\n",
       "}\n",
       "#T_0ee78_row6_col9, #T_0ee78_row12_col5, #T_0ee78_row12_col6, #T_0ee78_row12_col7, #T_0ee78_row12_col8, #T_0ee78_row12_col9, #T_0ee78_row12_col10 {\n",
       "  font-size: 6pt;\n",
       "  background-color: #eeeeee;\n",
       "  color: #000000;\n",
       "}\n",
       "#T_0ee78_row6_col17, #T_0ee78_row8_col9, #T_0ee78_row8_col10 {\n",
       "  font-size: 6pt;\n",
       "  background-color: #d1d1d1;\n",
       "  color: #000000;\n",
       "}\n",
       "#T_0ee78_row6_col20 {\n",
       "  font-size: 6pt;\n",
       "  background-color: #505050;\n",
       "  color: #f1f1f1;\n",
       "}\n",
       "#T_0ee78_row6_col21, #T_0ee78_row12_col11 {\n",
       "  font-size: 6pt;\n",
       "  background-color: #f8f8f8;\n",
       "  color: #000000;\n",
       "}\n",
       "#T_0ee78_row7_col5 {\n",
       "  font-size: 6pt;\n",
       "  background-color: #8d8d8d;\n",
       "  color: #f1f1f1;\n",
       "}\n",
       "#T_0ee78_row7_col8 {\n",
       "  font-size: 6pt;\n",
       "  background-color: #3a3a3a;\n",
       "  color: #f1f1f1;\n",
       "}\n",
       "#T_0ee78_row7_col9 {\n",
       "  font-size: 6pt;\n",
       "  background-color: #f6f6f6;\n",
       "  color: #000000;\n",
       "}\n",
       "#T_0ee78_row7_col17 {\n",
       "  font-size: 6pt;\n",
       "  background-color: #292929;\n",
       "  color: #f1f1f1;\n",
       "}\n",
       "#T_0ee78_row8_col5, #T_0ee78_row8_col17 {\n",
       "  font-size: 6pt;\n",
       "  background-color: #070707;\n",
       "  color: #f1f1f1;\n",
       "}\n",
       "#T_0ee78_row8_col8 {\n",
       "  font-size: 6pt;\n",
       "  background-color: #626262;\n",
       "  color: #f1f1f1;\n",
       "}\n",
       "#T_0ee78_row8_col11 {\n",
       "  font-size: 6pt;\n",
       "  background-color: #d0d0d0;\n",
       "  color: #000000;\n",
       "}\n",
       "#T_0ee78_row8_col12 {\n",
       "  font-size: 6pt;\n",
       "  background-color: #e9e9e9;\n",
       "  color: #000000;\n",
       "}\n",
       "#T_0ee78_row8_col16 {\n",
       "  font-size: 6pt;\n",
       "  background-color: #bebebe;\n",
       "  color: #000000;\n",
       "}\n",
       "#T_0ee78_row9_col4, #T_0ee78_row11_col11 {\n",
       "  font-size: 6pt;\n",
       "  background-color: #4e4e4e;\n",
       "  color: #f1f1f1;\n",
       "}\n",
       "#T_0ee78_row9_col12 {\n",
       "  font-size: 6pt;\n",
       "  background-color: #242424;\n",
       "  color: #f1f1f1;\n",
       "}\n",
       "#T_0ee78_row9_col16 {\n",
       "  font-size: 6pt;\n",
       "  background-color: #353535;\n",
       "  color: #f1f1f1;\n",
       "}\n",
       "#T_0ee78_row9_col19 {\n",
       "  font-size: 6pt;\n",
       "  background-color: #1a1a1a;\n",
       "  color: #f1f1f1;\n",
       "}\n",
       "#T_0ee78_row10_col16, #T_0ee78_row12_col16 {\n",
       "  font-size: 6pt;\n",
       "  background-color: #020202;\n",
       "  color: #f1f1f1;\n",
       "}\n",
       "#T_0ee78_row10_col19 {\n",
       "  font-size: 6pt;\n",
       "  background-color: #adadad;\n",
       "  color: #000000;\n",
       "}\n",
       "#T_0ee78_row11_col4 {\n",
       "  font-size: 6pt;\n",
       "  background-color: #6d6d6d;\n",
       "  color: #f1f1f1;\n",
       "}\n",
       "#T_0ee78_row11_col12, #T_0ee78_row11_col13 {\n",
       "  font-size: 6pt;\n",
       "  background-color: #828282;\n",
       "  color: #f1f1f1;\n",
       "}\n",
       "#T_0ee78_row11_col14 {\n",
       "  font-size: 6pt;\n",
       "  background-color: #707070;\n",
       "  color: #f1f1f1;\n",
       "}\n",
       "#T_0ee78_row12_col4 {\n",
       "  font-size: 6pt;\n",
       "  background-color: #f5f5f5;\n",
       "  color: #000000;\n",
       "}\n",
       "#T_0ee78_row12_col14 {\n",
       "  font-size: 6pt;\n",
       "  background-color: #ececec;\n",
       "  color: #000000;\n",
       "}\n",
       "#T_0ee78_row12_col18 {\n",
       "  font-size: 6pt;\n",
       "  background-color: #d3d3d3;\n",
       "  color: #000000;\n",
       "}\n",
       "</style>\n",
       "<table id=\"T_0ee78\">\n",
       "  <thead>\n",
       "    <tr>\n",
       "      <th class=\"blank level0\" >&nbsp;</th>\n",
       "      <th id=\"T_0ee78_level0_col0\" class=\"col_heading level0 col0\" >0</th>\n",
       "      <th id=\"T_0ee78_level0_col1\" class=\"col_heading level0 col1\" >1</th>\n",
       "      <th id=\"T_0ee78_level0_col2\" class=\"col_heading level0 col2\" >2</th>\n",
       "      <th id=\"T_0ee78_level0_col3\" class=\"col_heading level0 col3\" >3</th>\n",
       "      <th id=\"T_0ee78_level0_col4\" class=\"col_heading level0 col4\" >4</th>\n",
       "      <th id=\"T_0ee78_level0_col5\" class=\"col_heading level0 col5\" >5</th>\n",
       "      <th id=\"T_0ee78_level0_col6\" class=\"col_heading level0 col6\" >6</th>\n",
       "      <th id=\"T_0ee78_level0_col7\" class=\"col_heading level0 col7\" >7</th>\n",
       "      <th id=\"T_0ee78_level0_col8\" class=\"col_heading level0 col8\" >8</th>\n",
       "      <th id=\"T_0ee78_level0_col9\" class=\"col_heading level0 col9\" >9</th>\n",
       "      <th id=\"T_0ee78_level0_col10\" class=\"col_heading level0 col10\" >10</th>\n",
       "      <th id=\"T_0ee78_level0_col11\" class=\"col_heading level0 col11\" >11</th>\n",
       "      <th id=\"T_0ee78_level0_col12\" class=\"col_heading level0 col12\" >12</th>\n",
       "      <th id=\"T_0ee78_level0_col13\" class=\"col_heading level0 col13\" >13</th>\n",
       "      <th id=\"T_0ee78_level0_col14\" class=\"col_heading level0 col14\" >14</th>\n",
       "      <th id=\"T_0ee78_level0_col15\" class=\"col_heading level0 col15\" >15</th>\n",
       "      <th id=\"T_0ee78_level0_col16\" class=\"col_heading level0 col16\" >16</th>\n",
       "      <th id=\"T_0ee78_level0_col17\" class=\"col_heading level0 col17\" >17</th>\n",
       "      <th id=\"T_0ee78_level0_col18\" class=\"col_heading level0 col18\" >18</th>\n",
       "      <th id=\"T_0ee78_level0_col19\" class=\"col_heading level0 col19\" >19</th>\n",
       "      <th id=\"T_0ee78_level0_col20\" class=\"col_heading level0 col20\" >20</th>\n",
       "      <th id=\"T_0ee78_level0_col21\" class=\"col_heading level0 col21\" >21</th>\n",
       "      <th id=\"T_0ee78_level0_col22\" class=\"col_heading level0 col22\" >22</th>\n",
       "      <th id=\"T_0ee78_level0_col23\" class=\"col_heading level0 col23\" >23</th>\n",
       "      <th id=\"T_0ee78_level0_col24\" class=\"col_heading level0 col24\" >24</th>\n",
       "      <th id=\"T_0ee78_level0_col25\" class=\"col_heading level0 col25\" >25</th>\n",
       "      <th id=\"T_0ee78_level0_col26\" class=\"col_heading level0 col26\" >26</th>\n",
       "      <th id=\"T_0ee78_level0_col27\" class=\"col_heading level0 col27\" >27</th>\n",
       "    </tr>\n",
       "  </thead>\n",
       "  <tbody>\n",
       "    <tr>\n",
       "      <th id=\"T_0ee78_level0_row0\" class=\"row_heading level0 row0\" >0</th>\n",
       "      <td id=\"T_0ee78_row0_col0\" class=\"data row0 col0\" >0</td>\n",
       "      <td id=\"T_0ee78_row0_col1\" class=\"data row0 col1\" >0</td>\n",
       "      <td id=\"T_0ee78_row0_col2\" class=\"data row0 col2\" >0</td>\n",
       "      <td id=\"T_0ee78_row0_col3\" class=\"data row0 col3\" >0</td>\n",
       "      <td id=\"T_0ee78_row0_col4\" class=\"data row0 col4\" >0</td>\n",
       "      <td id=\"T_0ee78_row0_col5\" class=\"data row0 col5\" >0</td>\n",
       "      <td id=\"T_0ee78_row0_col6\" class=\"data row0 col6\" >0</td>\n",
       "      <td id=\"T_0ee78_row0_col7\" class=\"data row0 col7\" >0</td>\n",
       "      <td id=\"T_0ee78_row0_col8\" class=\"data row0 col8\" >0</td>\n",
       "      <td id=\"T_0ee78_row0_col9\" class=\"data row0 col9\" >0</td>\n",
       "      <td id=\"T_0ee78_row0_col10\" class=\"data row0 col10\" >0</td>\n",
       "      <td id=\"T_0ee78_row0_col11\" class=\"data row0 col11\" >0</td>\n",
       "      <td id=\"T_0ee78_row0_col12\" class=\"data row0 col12\" >0</td>\n",
       "      <td id=\"T_0ee78_row0_col13\" class=\"data row0 col13\" >0</td>\n",
       "      <td id=\"T_0ee78_row0_col14\" class=\"data row0 col14\" >0</td>\n",
       "      <td id=\"T_0ee78_row0_col15\" class=\"data row0 col15\" >0</td>\n",
       "      <td id=\"T_0ee78_row0_col16\" class=\"data row0 col16\" >0</td>\n",
       "      <td id=\"T_0ee78_row0_col17\" class=\"data row0 col17\" >0</td>\n",
       "      <td id=\"T_0ee78_row0_col18\" class=\"data row0 col18\" >0</td>\n",
       "      <td id=\"T_0ee78_row0_col19\" class=\"data row0 col19\" >0</td>\n",
       "      <td id=\"T_0ee78_row0_col20\" class=\"data row0 col20\" >32</td>\n",
       "      <td id=\"T_0ee78_row0_col21\" class=\"data row0 col21\" >207</td>\n",
       "      <td id=\"T_0ee78_row0_col22\" class=\"data row0 col22\" >252</td>\n",
       "      <td id=\"T_0ee78_row0_col23\" class=\"data row0 col23\" >148</td>\n",
       "      <td id=\"T_0ee78_row0_col24\" class=\"data row0 col24\" >0</td>\n",
       "      <td id=\"T_0ee78_row0_col25\" class=\"data row0 col25\" >0</td>\n",
       "      <td id=\"T_0ee78_row0_col26\" class=\"data row0 col26\" >0</td>\n",
       "      <td id=\"T_0ee78_row0_col27\" class=\"data row0 col27\" >0</td>\n",
       "    </tr>\n",
       "    <tr>\n",
       "      <th id=\"T_0ee78_level0_row1\" class=\"row_heading level0 row1\" >1</th>\n",
       "      <td id=\"T_0ee78_row1_col0\" class=\"data row1 col0\" >0</td>\n",
       "      <td id=\"T_0ee78_row1_col1\" class=\"data row1 col1\" >0</td>\n",
       "      <td id=\"T_0ee78_row1_col2\" class=\"data row1 col2\" >0</td>\n",
       "      <td id=\"T_0ee78_row1_col3\" class=\"data row1 col3\" >0</td>\n",
       "      <td id=\"T_0ee78_row1_col4\" class=\"data row1 col4\" >0</td>\n",
       "      <td id=\"T_0ee78_row1_col5\" class=\"data row1 col5\" >0</td>\n",
       "      <td id=\"T_0ee78_row1_col6\" class=\"data row1 col6\" >0</td>\n",
       "      <td id=\"T_0ee78_row1_col7\" class=\"data row1 col7\" >0</td>\n",
       "      <td id=\"T_0ee78_row1_col8\" class=\"data row1 col8\" >0</td>\n",
       "      <td id=\"T_0ee78_row1_col9\" class=\"data row1 col9\" >0</td>\n",
       "      <td id=\"T_0ee78_row1_col10\" class=\"data row1 col10\" >0</td>\n",
       "      <td id=\"T_0ee78_row1_col11\" class=\"data row1 col11\" >0</td>\n",
       "      <td id=\"T_0ee78_row1_col12\" class=\"data row1 col12\" >0</td>\n",
       "      <td id=\"T_0ee78_row1_col13\" class=\"data row1 col13\" >0</td>\n",
       "      <td id=\"T_0ee78_row1_col14\" class=\"data row1 col14\" >0</td>\n",
       "      <td id=\"T_0ee78_row1_col15\" class=\"data row1 col15\" >0</td>\n",
       "      <td id=\"T_0ee78_row1_col16\" class=\"data row1 col16\" >0</td>\n",
       "      <td id=\"T_0ee78_row1_col17\" class=\"data row1 col17\" >0</td>\n",
       "      <td id=\"T_0ee78_row1_col18\" class=\"data row1 col18\" >0</td>\n",
       "      <td id=\"T_0ee78_row1_col19\" class=\"data row1 col19\" >0</td>\n",
       "      <td id=\"T_0ee78_row1_col20\" class=\"data row1 col20\" >212</td>\n",
       "      <td id=\"T_0ee78_row1_col21\" class=\"data row1 col21\" >252</td>\n",
       "      <td id=\"T_0ee78_row1_col22\" class=\"data row1 col22\" >252</td>\n",
       "      <td id=\"T_0ee78_row1_col23\" class=\"data row1 col23\" >252</td>\n",
       "      <td id=\"T_0ee78_row1_col24\" class=\"data row1 col24\" >0</td>\n",
       "      <td id=\"T_0ee78_row1_col25\" class=\"data row1 col25\" >0</td>\n",
       "      <td id=\"T_0ee78_row1_col26\" class=\"data row1 col26\" >0</td>\n",
       "      <td id=\"T_0ee78_row1_col27\" class=\"data row1 col27\" >0</td>\n",
       "    </tr>\n",
       "    <tr>\n",
       "      <th id=\"T_0ee78_level0_row2\" class=\"row_heading level0 row2\" >2</th>\n",
       "      <td id=\"T_0ee78_row2_col0\" class=\"data row2 col0\" >0</td>\n",
       "      <td id=\"T_0ee78_row2_col1\" class=\"data row2 col1\" >0</td>\n",
       "      <td id=\"T_0ee78_row2_col2\" class=\"data row2 col2\" >0</td>\n",
       "      <td id=\"T_0ee78_row2_col3\" class=\"data row2 col3\" >0</td>\n",
       "      <td id=\"T_0ee78_row2_col4\" class=\"data row2 col4\" >0</td>\n",
       "      <td id=\"T_0ee78_row2_col5\" class=\"data row2 col5\" >0</td>\n",
       "      <td id=\"T_0ee78_row2_col6\" class=\"data row2 col6\" >0</td>\n",
       "      <td id=\"T_0ee78_row2_col7\" class=\"data row2 col7\" >0</td>\n",
       "      <td id=\"T_0ee78_row2_col8\" class=\"data row2 col8\" >0</td>\n",
       "      <td id=\"T_0ee78_row2_col9\" class=\"data row2 col9\" >0</td>\n",
       "      <td id=\"T_0ee78_row2_col10\" class=\"data row2 col10\" >0</td>\n",
       "      <td id=\"T_0ee78_row2_col11\" class=\"data row2 col11\" >0</td>\n",
       "      <td id=\"T_0ee78_row2_col12\" class=\"data row2 col12\" >0</td>\n",
       "      <td id=\"T_0ee78_row2_col13\" class=\"data row2 col13\" >0</td>\n",
       "      <td id=\"T_0ee78_row2_col14\" class=\"data row2 col14\" >0</td>\n",
       "      <td id=\"T_0ee78_row2_col15\" class=\"data row2 col15\" >0</td>\n",
       "      <td id=\"T_0ee78_row2_col16\" class=\"data row2 col16\" >0</td>\n",
       "      <td id=\"T_0ee78_row2_col17\" class=\"data row2 col17\" >0</td>\n",
       "      <td id=\"T_0ee78_row2_col18\" class=\"data row2 col18\" >1</td>\n",
       "      <td id=\"T_0ee78_row2_col19\" class=\"data row2 col19\" >84</td>\n",
       "      <td id=\"T_0ee78_row2_col20\" class=\"data row2 col20\" >253</td>\n",
       "      <td id=\"T_0ee78_row2_col21\" class=\"data row2 col21\" >252</td>\n",
       "      <td id=\"T_0ee78_row2_col22\" class=\"data row2 col22\" >252</td>\n",
       "      <td id=\"T_0ee78_row2_col23\" class=\"data row2 col23\" >168</td>\n",
       "      <td id=\"T_0ee78_row2_col24\" class=\"data row2 col24\" >0</td>\n",
       "      <td id=\"T_0ee78_row2_col25\" class=\"data row2 col25\" >0</td>\n",
       "      <td id=\"T_0ee78_row2_col26\" class=\"data row2 col26\" >0</td>\n",
       "      <td id=\"T_0ee78_row2_col27\" class=\"data row2 col27\" >0</td>\n",
       "    </tr>\n",
       "    <tr>\n",
       "      <th id=\"T_0ee78_level0_row3\" class=\"row_heading level0 row3\" >3</th>\n",
       "      <td id=\"T_0ee78_row3_col0\" class=\"data row3 col0\" >0</td>\n",
       "      <td id=\"T_0ee78_row3_col1\" class=\"data row3 col1\" >0</td>\n",
       "      <td id=\"T_0ee78_row3_col2\" class=\"data row3 col2\" >0</td>\n",
       "      <td id=\"T_0ee78_row3_col3\" class=\"data row3 col3\" >0</td>\n",
       "      <td id=\"T_0ee78_row3_col4\" class=\"data row3 col4\" >0</td>\n",
       "      <td id=\"T_0ee78_row3_col5\" class=\"data row3 col5\" >0</td>\n",
       "      <td id=\"T_0ee78_row3_col6\" class=\"data row3 col6\" >0</td>\n",
       "      <td id=\"T_0ee78_row3_col7\" class=\"data row3 col7\" >63</td>\n",
       "      <td id=\"T_0ee78_row3_col8\" class=\"data row3 col8\" >62</td>\n",
       "      <td id=\"T_0ee78_row3_col9\" class=\"data row3 col9\" >0</td>\n",
       "      <td id=\"T_0ee78_row3_col10\" class=\"data row3 col10\" >0</td>\n",
       "      <td id=\"T_0ee78_row3_col11\" class=\"data row3 col11\" >0</td>\n",
       "      <td id=\"T_0ee78_row3_col12\" class=\"data row3 col12\" >0</td>\n",
       "      <td id=\"T_0ee78_row3_col13\" class=\"data row3 col13\" >0</td>\n",
       "      <td id=\"T_0ee78_row3_col14\" class=\"data row3 col14\" >0</td>\n",
       "      <td id=\"T_0ee78_row3_col15\" class=\"data row3 col15\" >0</td>\n",
       "      <td id=\"T_0ee78_row3_col16\" class=\"data row3 col16\" >0</td>\n",
       "      <td id=\"T_0ee78_row3_col17\" class=\"data row3 col17\" >0</td>\n",
       "      <td id=\"T_0ee78_row3_col18\" class=\"data row3 col18\" >99</td>\n",
       "      <td id=\"T_0ee78_row3_col19\" class=\"data row3 col19\" >252</td>\n",
       "      <td id=\"T_0ee78_row3_col20\" class=\"data row3 col20\" >253</td>\n",
       "      <td id=\"T_0ee78_row3_col21\" class=\"data row3 col21\" >252</td>\n",
       "      <td id=\"T_0ee78_row3_col22\" class=\"data row3 col22\" >153</td>\n",
       "      <td id=\"T_0ee78_row3_col23\" class=\"data row3 col23\" >0</td>\n",
       "      <td id=\"T_0ee78_row3_col24\" class=\"data row3 col24\" >0</td>\n",
       "      <td id=\"T_0ee78_row3_col25\" class=\"data row3 col25\" >0</td>\n",
       "      <td id=\"T_0ee78_row3_col26\" class=\"data row3 col26\" >0</td>\n",
       "      <td id=\"T_0ee78_row3_col27\" class=\"data row3 col27\" >0</td>\n",
       "    </tr>\n",
       "    <tr>\n",
       "      <th id=\"T_0ee78_level0_row4\" class=\"row_heading level0 row4\" >4</th>\n",
       "      <td id=\"T_0ee78_row4_col0\" class=\"data row4 col0\" >0</td>\n",
       "      <td id=\"T_0ee78_row4_col1\" class=\"data row4 col1\" >0</td>\n",
       "      <td id=\"T_0ee78_row4_col2\" class=\"data row4 col2\" >0</td>\n",
       "      <td id=\"T_0ee78_row4_col3\" class=\"data row4 col3\" >0</td>\n",
       "      <td id=\"T_0ee78_row4_col4\" class=\"data row4 col4\" >0</td>\n",
       "      <td id=\"T_0ee78_row4_col5\" class=\"data row4 col5\" >0</td>\n",
       "      <td id=\"T_0ee78_row4_col6\" class=\"data row4 col6\" >32</td>\n",
       "      <td id=\"T_0ee78_row4_col7\" class=\"data row4 col7\" >237</td>\n",
       "      <td id=\"T_0ee78_row4_col8\" class=\"data row4 col8\" >237</td>\n",
       "      <td id=\"T_0ee78_row4_col9\" class=\"data row4 col9\" >72</td>\n",
       "      <td id=\"T_0ee78_row4_col10\" class=\"data row4 col10\" >0</td>\n",
       "      <td id=\"T_0ee78_row4_col11\" class=\"data row4 col11\" >0</td>\n",
       "      <td id=\"T_0ee78_row4_col12\" class=\"data row4 col12\" >0</td>\n",
       "      <td id=\"T_0ee78_row4_col13\" class=\"data row4 col13\" >0</td>\n",
       "      <td id=\"T_0ee78_row4_col14\" class=\"data row4 col14\" >0</td>\n",
       "      <td id=\"T_0ee78_row4_col15\" class=\"data row4 col15\" >0</td>\n",
       "      <td id=\"T_0ee78_row4_col16\" class=\"data row4 col16\" >0</td>\n",
       "      <td id=\"T_0ee78_row4_col17\" class=\"data row4 col17\" >0</td>\n",
       "      <td id=\"T_0ee78_row4_col18\" class=\"data row4 col18\" >181</td>\n",
       "      <td id=\"T_0ee78_row4_col19\" class=\"data row4 col19\" >252</td>\n",
       "      <td id=\"T_0ee78_row4_col20\" class=\"data row4 col20\" >253</td>\n",
       "      <td id=\"T_0ee78_row4_col21\" class=\"data row4 col21\" >189</td>\n",
       "      <td id=\"T_0ee78_row4_col22\" class=\"data row4 col22\" >10</td>\n",
       "      <td id=\"T_0ee78_row4_col23\" class=\"data row4 col23\" >0</td>\n",
       "      <td id=\"T_0ee78_row4_col24\" class=\"data row4 col24\" >0</td>\n",
       "      <td id=\"T_0ee78_row4_col25\" class=\"data row4 col25\" >0</td>\n",
       "      <td id=\"T_0ee78_row4_col26\" class=\"data row4 col26\" >0</td>\n",
       "      <td id=\"T_0ee78_row4_col27\" class=\"data row4 col27\" >0</td>\n",
       "    </tr>\n",
       "    <tr>\n",
       "      <th id=\"T_0ee78_level0_row5\" class=\"row_heading level0 row5\" >5</th>\n",
       "      <td id=\"T_0ee78_row5_col0\" class=\"data row5 col0\" >0</td>\n",
       "      <td id=\"T_0ee78_row5_col1\" class=\"data row5 col1\" >0</td>\n",
       "      <td id=\"T_0ee78_row5_col2\" class=\"data row5 col2\" >0</td>\n",
       "      <td id=\"T_0ee78_row5_col3\" class=\"data row5 col3\" >0</td>\n",
       "      <td id=\"T_0ee78_row5_col4\" class=\"data row5 col4\" >0</td>\n",
       "      <td id=\"T_0ee78_row5_col5\" class=\"data row5 col5\" >0</td>\n",
       "      <td id=\"T_0ee78_row5_col6\" class=\"data row5 col6\" >140</td>\n",
       "      <td id=\"T_0ee78_row5_col7\" class=\"data row5 col7\" >252</td>\n",
       "      <td id=\"T_0ee78_row5_col8\" class=\"data row5 col8\" >252</td>\n",
       "      <td id=\"T_0ee78_row5_col9\" class=\"data row5 col9\" >158</td>\n",
       "      <td id=\"T_0ee78_row5_col10\" class=\"data row5 col10\" >0</td>\n",
       "      <td id=\"T_0ee78_row5_col11\" class=\"data row5 col11\" >0</td>\n",
       "      <td id=\"T_0ee78_row5_col12\" class=\"data row5 col12\" >0</td>\n",
       "      <td id=\"T_0ee78_row5_col13\" class=\"data row5 col13\" >0</td>\n",
       "      <td id=\"T_0ee78_row5_col14\" class=\"data row5 col14\" >0</td>\n",
       "      <td id=\"T_0ee78_row5_col15\" class=\"data row5 col15\" >0</td>\n",
       "      <td id=\"T_0ee78_row5_col16\" class=\"data row5 col16\" >0</td>\n",
       "      <td id=\"T_0ee78_row5_col17\" class=\"data row5 col17\" >53</td>\n",
       "      <td id=\"T_0ee78_row5_col18\" class=\"data row5 col18\" >232</td>\n",
       "      <td id=\"T_0ee78_row5_col19\" class=\"data row5 col19\" >252</td>\n",
       "      <td id=\"T_0ee78_row5_col20\" class=\"data row5 col20\" >253</td>\n",
       "      <td id=\"T_0ee78_row5_col21\" class=\"data row5 col21\" >76</td>\n",
       "      <td id=\"T_0ee78_row5_col22\" class=\"data row5 col22\" >0</td>\n",
       "      <td id=\"T_0ee78_row5_col23\" class=\"data row5 col23\" >0</td>\n",
       "      <td id=\"T_0ee78_row5_col24\" class=\"data row5 col24\" >0</td>\n",
       "      <td id=\"T_0ee78_row5_col25\" class=\"data row5 col25\" >0</td>\n",
       "      <td id=\"T_0ee78_row5_col26\" class=\"data row5 col26\" >0</td>\n",
       "      <td id=\"T_0ee78_row5_col27\" class=\"data row5 col27\" >0</td>\n",
       "    </tr>\n",
       "    <tr>\n",
       "      <th id=\"T_0ee78_level0_row6\" class=\"row_heading level0 row6\" >6</th>\n",
       "      <td id=\"T_0ee78_row6_col0\" class=\"data row6 col0\" >0</td>\n",
       "      <td id=\"T_0ee78_row6_col1\" class=\"data row6 col1\" >0</td>\n",
       "      <td id=\"T_0ee78_row6_col2\" class=\"data row6 col2\" >0</td>\n",
       "      <td id=\"T_0ee78_row6_col3\" class=\"data row6 col3\" >0</td>\n",
       "      <td id=\"T_0ee78_row6_col4\" class=\"data row6 col4\" >0</td>\n",
       "      <td id=\"T_0ee78_row6_col5\" class=\"data row6 col5\" >0</td>\n",
       "      <td id=\"T_0ee78_row6_col6\" class=\"data row6 col6\" >181</td>\n",
       "      <td id=\"T_0ee78_row6_col7\" class=\"data row6 col7\" >252</td>\n",
       "      <td id=\"T_0ee78_row6_col8\" class=\"data row6 col8\" >252</td>\n",
       "      <td id=\"T_0ee78_row6_col9\" class=\"data row6 col9\" >35</td>\n",
       "      <td id=\"T_0ee78_row6_col10\" class=\"data row6 col10\" >0</td>\n",
       "      <td id=\"T_0ee78_row6_col11\" class=\"data row6 col11\" >0</td>\n",
       "      <td id=\"T_0ee78_row6_col12\" class=\"data row6 col12\" >0</td>\n",
       "      <td id=\"T_0ee78_row6_col13\" class=\"data row6 col13\" >0</td>\n",
       "      <td id=\"T_0ee78_row6_col14\" class=\"data row6 col14\" >0</td>\n",
       "      <td id=\"T_0ee78_row6_col15\" class=\"data row6 col15\" >0</td>\n",
       "      <td id=\"T_0ee78_row6_col16\" class=\"data row6 col16\" >0</td>\n",
       "      <td id=\"T_0ee78_row6_col17\" class=\"data row6 col17\" >73</td>\n",
       "      <td id=\"T_0ee78_row6_col18\" class=\"data row6 col18\" >252</td>\n",
       "      <td id=\"T_0ee78_row6_col19\" class=\"data row6 col19\" >252</td>\n",
       "      <td id=\"T_0ee78_row6_col20\" class=\"data row6 col20\" >191</td>\n",
       "      <td id=\"T_0ee78_row6_col21\" class=\"data row6 col21\" >15</td>\n",
       "      <td id=\"T_0ee78_row6_col22\" class=\"data row6 col22\" >0</td>\n",
       "      <td id=\"T_0ee78_row6_col23\" class=\"data row6 col23\" >0</td>\n",
       "      <td id=\"T_0ee78_row6_col24\" class=\"data row6 col24\" >0</td>\n",
       "      <td id=\"T_0ee78_row6_col25\" class=\"data row6 col25\" >0</td>\n",
       "      <td id=\"T_0ee78_row6_col26\" class=\"data row6 col26\" >0</td>\n",
       "      <td id=\"T_0ee78_row6_col27\" class=\"data row6 col27\" >0</td>\n",
       "    </tr>\n",
       "    <tr>\n",
       "      <th id=\"T_0ee78_level0_row7\" class=\"row_heading level0 row7\" >7</th>\n",
       "      <td id=\"T_0ee78_row7_col0\" class=\"data row7 col0\" >0</td>\n",
       "      <td id=\"T_0ee78_row7_col1\" class=\"data row7 col1\" >0</td>\n",
       "      <td id=\"T_0ee78_row7_col2\" class=\"data row7 col2\" >0</td>\n",
       "      <td id=\"T_0ee78_row7_col3\" class=\"data row7 col3\" >0</td>\n",
       "      <td id=\"T_0ee78_row7_col4\" class=\"data row7 col4\" >0</td>\n",
       "      <td id=\"T_0ee78_row7_col5\" class=\"data row7 col5\" >135</td>\n",
       "      <td id=\"T_0ee78_row7_col6\" class=\"data row7 col6\" >253</td>\n",
       "      <td id=\"T_0ee78_row7_col7\" class=\"data row7 col7\" >253</td>\n",
       "      <td id=\"T_0ee78_row7_col8\" class=\"data row7 col8\" >206</td>\n",
       "      <td id=\"T_0ee78_row7_col9\" class=\"data row7 col9\" >20</td>\n",
       "      <td id=\"T_0ee78_row7_col10\" class=\"data row7 col10\" >0</td>\n",
       "      <td id=\"T_0ee78_row7_col11\" class=\"data row7 col11\" >0</td>\n",
       "      <td id=\"T_0ee78_row7_col12\" class=\"data row7 col12\" >0</td>\n",
       "      <td id=\"T_0ee78_row7_col13\" class=\"data row7 col13\" >0</td>\n",
       "      <td id=\"T_0ee78_row7_col14\" class=\"data row7 col14\" >0</td>\n",
       "      <td id=\"T_0ee78_row7_col15\" class=\"data row7 col15\" >0</td>\n",
       "      <td id=\"T_0ee78_row7_col16\" class=\"data row7 col16\" >0</td>\n",
       "      <td id=\"T_0ee78_row7_col17\" class=\"data row7 col17\" >218</td>\n",
       "      <td id=\"T_0ee78_row7_col18\" class=\"data row7 col18\" >253</td>\n",
       "      <td id=\"T_0ee78_row7_col19\" class=\"data row7 col19\" >253</td>\n",
       "      <td id=\"T_0ee78_row7_col20\" class=\"data row7 col20\" >0</td>\n",
       "      <td id=\"T_0ee78_row7_col21\" class=\"data row7 col21\" >0</td>\n",
       "      <td id=\"T_0ee78_row7_col22\" class=\"data row7 col22\" >0</td>\n",
       "      <td id=\"T_0ee78_row7_col23\" class=\"data row7 col23\" >0</td>\n",
       "      <td id=\"T_0ee78_row7_col24\" class=\"data row7 col24\" >0</td>\n",
       "      <td id=\"T_0ee78_row7_col25\" class=\"data row7 col25\" >0</td>\n",
       "      <td id=\"T_0ee78_row7_col26\" class=\"data row7 col26\" >0</td>\n",
       "      <td id=\"T_0ee78_row7_col27\" class=\"data row7 col27\" >0</td>\n",
       "    </tr>\n",
       "    <tr>\n",
       "      <th id=\"T_0ee78_level0_row8\" class=\"row_heading level0 row8\" >8</th>\n",
       "      <td id=\"T_0ee78_row8_col0\" class=\"data row8 col0\" >0</td>\n",
       "      <td id=\"T_0ee78_row8_col1\" class=\"data row8 col1\" >0</td>\n",
       "      <td id=\"T_0ee78_row8_col2\" class=\"data row8 col2\" >0</td>\n",
       "      <td id=\"T_0ee78_row8_col3\" class=\"data row8 col3\" >0</td>\n",
       "      <td id=\"T_0ee78_row8_col4\" class=\"data row8 col4\" >94</td>\n",
       "      <td id=\"T_0ee78_row8_col5\" class=\"data row8 col5\" >247</td>\n",
       "      <td id=\"T_0ee78_row8_col6\" class=\"data row8 col6\" >252</td>\n",
       "      <td id=\"T_0ee78_row8_col7\" class=\"data row8 col7\" >252</td>\n",
       "      <td id=\"T_0ee78_row8_col8\" class=\"data row8 col8\" >174</td>\n",
       "      <td id=\"T_0ee78_row8_col9\" class=\"data row8 col9\" >73</td>\n",
       "      <td id=\"T_0ee78_row8_col10\" class=\"data row8 col10\" >73</td>\n",
       "      <td id=\"T_0ee78_row8_col11\" class=\"data row8 col11\" >73</td>\n",
       "      <td id=\"T_0ee78_row8_col12\" class=\"data row8 col12\" >42</td>\n",
       "      <td id=\"T_0ee78_row8_col13\" class=\"data row8 col13\" >0</td>\n",
       "      <td id=\"T_0ee78_row8_col14\" class=\"data row8 col14\" >0</td>\n",
       "      <td id=\"T_0ee78_row8_col15\" class=\"data row8 col15\" >0</td>\n",
       "      <td id=\"T_0ee78_row8_col16\" class=\"data row8 col16\" >94</td>\n",
       "      <td id=\"T_0ee78_row8_col17\" class=\"data row8 col17\" >247</td>\n",
       "      <td id=\"T_0ee78_row8_col18\" class=\"data row8 col18\" >252</td>\n",
       "      <td id=\"T_0ee78_row8_col19\" class=\"data row8 col19\" >252</td>\n",
       "      <td id=\"T_0ee78_row8_col20\" class=\"data row8 col20\" >0</td>\n",
       "      <td id=\"T_0ee78_row8_col21\" class=\"data row8 col21\" >0</td>\n",
       "      <td id=\"T_0ee78_row8_col22\" class=\"data row8 col22\" >0</td>\n",
       "      <td id=\"T_0ee78_row8_col23\" class=\"data row8 col23\" >0</td>\n",
       "      <td id=\"T_0ee78_row8_col24\" class=\"data row8 col24\" >0</td>\n",
       "      <td id=\"T_0ee78_row8_col25\" class=\"data row8 col25\" >0</td>\n",
       "      <td id=\"T_0ee78_row8_col26\" class=\"data row8 col26\" >0</td>\n",
       "      <td id=\"T_0ee78_row8_col27\" class=\"data row8 col27\" >0</td>\n",
       "    </tr>\n",
       "    <tr>\n",
       "      <th id=\"T_0ee78_level0_row9\" class=\"row_heading level0 row9\" >9</th>\n",
       "      <td id=\"T_0ee78_row9_col0\" class=\"data row9 col0\" >0</td>\n",
       "      <td id=\"T_0ee78_row9_col1\" class=\"data row9 col1\" >0</td>\n",
       "      <td id=\"T_0ee78_row9_col2\" class=\"data row9 col2\" >0</td>\n",
       "      <td id=\"T_0ee78_row9_col3\" class=\"data row9 col3\" >0</td>\n",
       "      <td id=\"T_0ee78_row9_col4\" class=\"data row9 col4\" >129</td>\n",
       "      <td id=\"T_0ee78_row9_col5\" class=\"data row9 col5\" >252</td>\n",
       "      <td id=\"T_0ee78_row9_col6\" class=\"data row9 col6\" >252</td>\n",
       "      <td id=\"T_0ee78_row9_col7\" class=\"data row9 col7\" >252</td>\n",
       "      <td id=\"T_0ee78_row9_col8\" class=\"data row9 col8\" >252</td>\n",
       "      <td id=\"T_0ee78_row9_col9\" class=\"data row9 col9\" >252</td>\n",
       "      <td id=\"T_0ee78_row9_col10\" class=\"data row9 col10\" >252</td>\n",
       "      <td id=\"T_0ee78_row9_col11\" class=\"data row9 col11\" >252</td>\n",
       "      <td id=\"T_0ee78_row9_col12\" class=\"data row9 col12\" >222</td>\n",
       "      <td id=\"T_0ee78_row9_col13\" class=\"data row9 col13\" >181</td>\n",
       "      <td id=\"T_0ee78_row9_col14\" class=\"data row9 col14\" >181</td>\n",
       "      <td id=\"T_0ee78_row9_col15\" class=\"data row9 col15\" >181</td>\n",
       "      <td id=\"T_0ee78_row9_col16\" class=\"data row9 col16\" >212</td>\n",
       "      <td id=\"T_0ee78_row9_col17\" class=\"data row9 col17\" >252</td>\n",
       "      <td id=\"T_0ee78_row9_col18\" class=\"data row9 col18\" >252</td>\n",
       "      <td id=\"T_0ee78_row9_col19\" class=\"data row9 col19\" >231</td>\n",
       "      <td id=\"T_0ee78_row9_col20\" class=\"data row9 col20\" >0</td>\n",
       "      <td id=\"T_0ee78_row9_col21\" class=\"data row9 col21\" >0</td>\n",
       "      <td id=\"T_0ee78_row9_col22\" class=\"data row9 col22\" >0</td>\n",
       "      <td id=\"T_0ee78_row9_col23\" class=\"data row9 col23\" >0</td>\n",
       "      <td id=\"T_0ee78_row9_col24\" class=\"data row9 col24\" >0</td>\n",
       "      <td id=\"T_0ee78_row9_col25\" class=\"data row9 col25\" >0</td>\n",
       "      <td id=\"T_0ee78_row9_col26\" class=\"data row9 col26\" >0</td>\n",
       "      <td id=\"T_0ee78_row9_col27\" class=\"data row9 col27\" >0</td>\n",
       "    </tr>\n",
       "    <tr>\n",
       "      <th id=\"T_0ee78_level0_row10\" class=\"row_heading level0 row10\" >10</th>\n",
       "      <td id=\"T_0ee78_row10_col0\" class=\"data row10 col0\" >0</td>\n",
       "      <td id=\"T_0ee78_row10_col1\" class=\"data row10 col1\" >0</td>\n",
       "      <td id=\"T_0ee78_row10_col2\" class=\"data row10 col2\" >0</td>\n",
       "      <td id=\"T_0ee78_row10_col3\" class=\"data row10 col3\" >0</td>\n",
       "      <td id=\"T_0ee78_row10_col4\" class=\"data row10 col4\" >170</td>\n",
       "      <td id=\"T_0ee78_row10_col5\" class=\"data row10 col5\" >252</td>\n",
       "      <td id=\"T_0ee78_row10_col6\" class=\"data row10 col6\" >252</td>\n",
       "      <td id=\"T_0ee78_row10_col7\" class=\"data row10 col7\" >252</td>\n",
       "      <td id=\"T_0ee78_row10_col8\" class=\"data row10 col8\" >252</td>\n",
       "      <td id=\"T_0ee78_row10_col9\" class=\"data row10 col9\" >252</td>\n",
       "      <td id=\"T_0ee78_row10_col10\" class=\"data row10 col10\" >252</td>\n",
       "      <td id=\"T_0ee78_row10_col11\" class=\"data row10 col11\" >252</td>\n",
       "      <td id=\"T_0ee78_row10_col12\" class=\"data row10 col12\" >253</td>\n",
       "      <td id=\"T_0ee78_row10_col13\" class=\"data row10 col13\" >252</td>\n",
       "      <td id=\"T_0ee78_row10_col14\" class=\"data row10 col14\" >252</td>\n",
       "      <td id=\"T_0ee78_row10_col15\" class=\"data row10 col15\" >252</td>\n",
       "      <td id=\"T_0ee78_row10_col16\" class=\"data row10 col16\" >253</td>\n",
       "      <td id=\"T_0ee78_row10_col17\" class=\"data row10 col17\" >252</td>\n",
       "      <td id=\"T_0ee78_row10_col18\" class=\"data row10 col18\" >252</td>\n",
       "      <td id=\"T_0ee78_row10_col19\" class=\"data row10 col19\" >108</td>\n",
       "      <td id=\"T_0ee78_row10_col20\" class=\"data row10 col20\" >0</td>\n",
       "      <td id=\"T_0ee78_row10_col21\" class=\"data row10 col21\" >0</td>\n",
       "      <td id=\"T_0ee78_row10_col22\" class=\"data row10 col22\" >0</td>\n",
       "      <td id=\"T_0ee78_row10_col23\" class=\"data row10 col23\" >0</td>\n",
       "      <td id=\"T_0ee78_row10_col24\" class=\"data row10 col24\" >0</td>\n",
       "      <td id=\"T_0ee78_row10_col25\" class=\"data row10 col25\" >0</td>\n",
       "      <td id=\"T_0ee78_row10_col26\" class=\"data row10 col26\" >0</td>\n",
       "      <td id=\"T_0ee78_row10_col27\" class=\"data row10 col27\" >0</td>\n",
       "    </tr>\n",
       "    <tr>\n",
       "      <th id=\"T_0ee78_level0_row11\" class=\"row_heading level0 row11\" >11</th>\n",
       "      <td id=\"T_0ee78_row11_col0\" class=\"data row11 col0\" >0</td>\n",
       "      <td id=\"T_0ee78_row11_col1\" class=\"data row11 col1\" >0</td>\n",
       "      <td id=\"T_0ee78_row11_col2\" class=\"data row11 col2\" >0</td>\n",
       "      <td id=\"T_0ee78_row11_col3\" class=\"data row11 col3\" >0</td>\n",
       "      <td id=\"T_0ee78_row11_col4\" class=\"data row11 col4\" >110</td>\n",
       "      <td id=\"T_0ee78_row11_col5\" class=\"data row11 col5\" >253</td>\n",
       "      <td id=\"T_0ee78_row11_col6\" class=\"data row11 col6\" >253</td>\n",
       "      <td id=\"T_0ee78_row11_col7\" class=\"data row11 col7\" >253</td>\n",
       "      <td id=\"T_0ee78_row11_col8\" class=\"data row11 col8\" >253</td>\n",
       "      <td id=\"T_0ee78_row11_col9\" class=\"data row11 col9\" >253</td>\n",
       "      <td id=\"T_0ee78_row11_col10\" class=\"data row11 col10\" >253</td>\n",
       "      <td id=\"T_0ee78_row11_col11\" class=\"data row11 col11\" >191</td>\n",
       "      <td id=\"T_0ee78_row11_col12\" class=\"data row11 col12\" >145</td>\n",
       "      <td id=\"T_0ee78_row11_col13\" class=\"data row11 col13\" >144</td>\n",
       "      <td id=\"T_0ee78_row11_col14\" class=\"data row11 col14\" >160</td>\n",
       "      <td id=\"T_0ee78_row11_col15\" class=\"data row11 col15\" >253</td>\n",
       "      <td id=\"T_0ee78_row11_col16\" class=\"data row11 col16\" >255</td>\n",
       "      <td id=\"T_0ee78_row11_col17\" class=\"data row11 col17\" >253</td>\n",
       "      <td id=\"T_0ee78_row11_col18\" class=\"data row11 col18\" >154</td>\n",
       "      <td id=\"T_0ee78_row11_col19\" class=\"data row11 col19\" >0</td>\n",
       "      <td id=\"T_0ee78_row11_col20\" class=\"data row11 col20\" >0</td>\n",
       "      <td id=\"T_0ee78_row11_col21\" class=\"data row11 col21\" >0</td>\n",
       "      <td id=\"T_0ee78_row11_col22\" class=\"data row11 col22\" >0</td>\n",
       "      <td id=\"T_0ee78_row11_col23\" class=\"data row11 col23\" >0</td>\n",
       "      <td id=\"T_0ee78_row11_col24\" class=\"data row11 col24\" >0</td>\n",
       "      <td id=\"T_0ee78_row11_col25\" class=\"data row11 col25\" >0</td>\n",
       "      <td id=\"T_0ee78_row11_col26\" class=\"data row11 col26\" >0</td>\n",
       "      <td id=\"T_0ee78_row11_col27\" class=\"data row11 col27\" >0</td>\n",
       "    </tr>\n",
       "    <tr>\n",
       "      <th id=\"T_0ee78_level0_row12\" class=\"row_heading level0 row12\" >12</th>\n",
       "      <td id=\"T_0ee78_row12_col0\" class=\"data row12 col0\" >0</td>\n",
       "      <td id=\"T_0ee78_row12_col1\" class=\"data row12 col1\" >0</td>\n",
       "      <td id=\"T_0ee78_row12_col2\" class=\"data row12 col2\" >0</td>\n",
       "      <td id=\"T_0ee78_row12_col3\" class=\"data row12 col3\" >0</td>\n",
       "      <td id=\"T_0ee78_row12_col4\" class=\"data row12 col4\" >15</td>\n",
       "      <td id=\"T_0ee78_row12_col5\" class=\"data row12 col5\" >35</td>\n",
       "      <td id=\"T_0ee78_row12_col6\" class=\"data row12 col6\" >35</td>\n",
       "      <td id=\"T_0ee78_row12_col7\" class=\"data row12 col7\" >35</td>\n",
       "      <td id=\"T_0ee78_row12_col8\" class=\"data row12 col8\" >35</td>\n",
       "      <td id=\"T_0ee78_row12_col9\" class=\"data row12 col9\" >35</td>\n",
       "      <td id=\"T_0ee78_row12_col10\" class=\"data row12 col10\" >35</td>\n",
       "      <td id=\"T_0ee78_row12_col11\" class=\"data row12 col11\" >15</td>\n",
       "      <td id=\"T_0ee78_row12_col12\" class=\"data row12 col12\" >0</td>\n",
       "      <td id=\"T_0ee78_row12_col13\" class=\"data row12 col13\" >0</td>\n",
       "      <td id=\"T_0ee78_row12_col14\" class=\"data row12 col14\" >37</td>\n",
       "      <td id=\"T_0ee78_row12_col15\" class=\"data row12 col15\" >252</td>\n",
       "      <td id=\"T_0ee78_row12_col16\" class=\"data row12 col16\" >253</td>\n",
       "      <td id=\"T_0ee78_row12_col17\" class=\"data row12 col17\" >252</td>\n",
       "      <td id=\"T_0ee78_row12_col18\" class=\"data row12 col18\" >71</td>\n",
       "      <td id=\"T_0ee78_row12_col19\" class=\"data row12 col19\" >0</td>\n",
       "      <td id=\"T_0ee78_row12_col20\" class=\"data row12 col20\" >0</td>\n",
       "      <td id=\"T_0ee78_row12_col21\" class=\"data row12 col21\" >0</td>\n",
       "      <td id=\"T_0ee78_row12_col22\" class=\"data row12 col22\" >0</td>\n",
       "      <td id=\"T_0ee78_row12_col23\" class=\"data row12 col23\" >0</td>\n",
       "      <td id=\"T_0ee78_row12_col24\" class=\"data row12 col24\" >0</td>\n",
       "      <td id=\"T_0ee78_row12_col25\" class=\"data row12 col25\" >0</td>\n",
       "      <td id=\"T_0ee78_row12_col26\" class=\"data row12 col26\" >0</td>\n",
       "      <td id=\"T_0ee78_row12_col27\" class=\"data row12 col27\" >0</td>\n",
       "    </tr>\n",
       "  </tbody>\n",
       "</table>\n"
      ],
      "text/plain": [
       "<pandas.io.formats.style.Styler at 0x167117730>"
      ]
     },
     "execution_count": 9,
     "metadata": {},
     "output_type": "execute_result"
    }
   ],
   "source": [
    "# look at part of it closer\n",
    "im4_t = tensor(im4)\n",
    "df = pd.DataFrame(im4_t[6:19,0:28])\n",
    "df.style.set_properties(**{'font-size':'6pt'}).background_gradient('Greys')"
   ]
  },
  {
   "cell_type": "code",
   "execution_count": 10,
   "id": "84e51a9a-7bf2-4f8b-8f2f-a92310ab2e84",
   "metadata": {},
   "outputs": [],
   "source": [
    "# 3-liner\n",
    "# numbers = {'training': [[] for _ in range(10)], 'testing': [[] for _ in range(10)]}\n",
    "# for i in range(10):\n",
    "#    numbers['training'][i] = [tensor(Image.open(path)) for path in number_paths['training'][i]]"
   ]
  },
  {
   "cell_type": "code",
   "execution_count": 11,
   "id": "80e9f3a7-7bd9-4198-ba9b-3eb61b09485a",
   "metadata": {},
   "outputs": [],
   "source": [
    "# one-liner\n",
    "tensors = {key: [[tensor(Image.open(path)) for path in number_paths[key][i]] for i in range(10)] for key in ['training', 'testing']}"
   ]
  },
  {
   "cell_type": "code",
   "execution_count": 12,
   "id": "8826fa85-23a9-4a08-897f-15a8483b2293",
   "metadata": {},
   "outputs": [
    {
     "data": {
      "text/plain": [
       "(6131, 6265, 5851)"
      ]
     },
     "execution_count": 12,
     "metadata": {},
     "output_type": "execute_result"
    }
   ],
   "source": [
    "len(tensors['training'][3]), len(tensors['training'][7]), len(tensors['training'][8])"
   ]
  },
  {
   "cell_type": "code",
   "execution_count": 13,
   "id": "01b049f1-b365-43d2-9a5a-b8446364107b",
   "metadata": {},
   "outputs": [
    {
     "data": {
      "text/plain": [
       "torch.Size([28, 28])"
      ]
     },
     "execution_count": 13,
     "metadata": {},
     "output_type": "execute_result"
    }
   ],
   "source": [
    "tensors['training'][7][0].shape # a seven"
   ]
  },
  {
   "cell_type": "code",
   "execution_count": 14,
   "id": "0f6b3300-a487-4a12-bf80-34b1295b42a9",
   "metadata": {},
   "outputs": [],
   "source": [
    "# stack them\n",
    "stacked_tensors = {key: [torch.stack(tensors[key][i]).float()/255 for i in range(10)] for key in ['training', 'testing']}"
   ]
  },
  {
   "cell_type": "code",
   "execution_count": 15,
   "id": "e239c57e-3649-4fff-8068-71bba6ceec0e",
   "metadata": {},
   "outputs": [
    {
     "data": {
      "text/plain": [
       "torch.Size([6131, 28, 28])"
      ]
     },
     "execution_count": 15,
     "metadata": {},
     "output_type": "execute_result"
    }
   ],
   "source": [
    "stacked_tensors['training'][3].shape"
   ]
  },
  {
   "cell_type": "code",
   "execution_count": 16,
   "id": "1de71869-7608-4716-b3da-17284cf16167",
   "metadata": {},
   "outputs": [
    {
     "data": {
      "text/plain": [
       "(3, 3)"
      ]
     },
     "execution_count": 16,
     "metadata": {},
     "output_type": "execute_result"
    }
   ],
   "source": [
    "len(stacked_tensors['training'][3].shape), stacked_tensors['training'][3].ndim"
   ]
  },
  {
   "cell_type": "code",
   "execution_count": 17,
   "id": "0ad7e0d5-f80e-4cfe-a86a-c22801f48380",
   "metadata": {},
   "outputs": [
    {
     "data": {
      "image/png": "[encoded data removed]",
      "text/plain": [
       "<Figure size 100x100 with 1 Axes>"
      ]
     },
     "metadata": {},
     "output_type": "display_data"
    },
    {
     "data": {
      "image/png": "[encoded data removed]",
      "text/plain": [
       "<Figure size 100x100 with 1 Axes>"
      ]
     },
     "metadata": {},
     "output_type": "display_data"
    }
   ],
   "source": [
    "# mean3 = stacked_tensors['training'][3].mean(0)\n",
    "# mean5 = stacked_tensors['training'][5].mean(0)\n",
    "means = [stacked_tensors['training'][i].mean(0) for i in range(10)]\n",
    "show_image(means[3]), show_image(means[5]);"
   ]
  },
  {
   "cell_type": "code",
   "execution_count": 18,
   "id": "449cb3b3-9dd0-4154-a282-e7621322c58b",
   "metadata": {},
   "outputs": [
    {
     "data": {
      "image/png": "[encoded data removed]",
      "text/plain": [
       "<Figure size 100x100 with 1 Axes>"
      ]
     },
     "metadata": {},
     "output_type": "display_data"
    },
    {
     "data": {
      "image/png": "[encoded data removed]",
      "text/plain": [
       "<Figure size 100x100 with 1 Axes>"
      ]
     },
     "metadata": {},
     "output_type": "display_data"
    }
   ],
   "source": [
    "a_3 = stacked_tensors['training'][3][1]\n",
    "a_5 = stacked_tensors['training'][5][1]\n",
    "show_image(a_3), show_image(a_5);"
   ]
  },
  {
   "cell_type": "markdown",
   "id": "5d5c645d-5261-44b4-b115-7596434ce960",
   "metadata": {},
   "source": [
    "### loss functions"
   ]
  },
  {
   "cell_type": "code",
   "execution_count": 19,
   "id": "b6ea76fa-4df9-4ff3-9abf-ef21b1f1933f",
   "metadata": {},
   "outputs": [
    {
     "data": {
      "text/plain": [
       "(tensor(0.1114), tensor(0.2021))"
      ]
     },
     "execution_count": 19,
     "metadata": {},
     "output_type": "execute_result"
    }
   ],
   "source": [
    "# distance betweem the example 3 and the mean 3\n",
    "dist_3_abs = (a_3 - means[3]).abs().mean() # L1 norm\n",
    "dist_3_sqr = ((a_3 - means[3])**2).mean().sqrt() # L2 norm\n",
    "dist_3_abs,dist_3_sqr"
   ]
  },
  {
   "cell_type": "code",
   "execution_count": 20,
   "id": "9b3bba70-6a0c-4ef6-8fc7-35cf81ed5d72",
   "metadata": {},
   "outputs": [
    {
     "data": {
      "text/plain": [
       "(tensor(0.1307), tensor(0.2302))"
      ]
     },
     "execution_count": 20,
     "metadata": {},
     "output_type": "execute_result"
    }
   ],
   "source": [
    "dist_5_abs = (a_5 - means[5]).abs().mean()\n",
    "dist_5_sqr = ((a_5 - means[5])**2).mean().sqrt()\n",
    "dist_5_abs,dist_5_sqr"
   ]
  },
  {
   "cell_type": "code",
   "execution_count": 21,
   "id": "b09d48a4-979a-4b3d-b477-983ecee185ea",
   "metadata": {},
   "outputs": [
    {
     "data": {
      "text/plain": [
       "(tensor(0.1114), tensor(0.2577))"
      ]
     },
     "execution_count": 21,
     "metadata": {},
     "output_type": "execute_result"
    }
   ],
   "source": [
    "# found at torch.nn.functional\n",
    "F.l1_loss(a_3.float(), means[3]), F.mse_loss(a_3, means[5]).sqrt()"
   ]
  },
  {
   "cell_type": "code",
   "execution_count": 22,
   "id": "9e8f81ed-0c05-4ace-b2bd-2375cfdcf563",
   "metadata": {},
   "outputs": [
    {
     "data": {
      "text/plain": [
       "(tensor(0.1307), tensor(0.2302))"
      ]
     },
     "execution_count": 22,
     "metadata": {},
     "output_type": "execute_result"
    }
   ],
   "source": [
    "F.l1_loss(a_5.float(), means[5]), F.mse_loss(a_5, means[5]).sqrt()"
   ]
  },
  {
   "cell_type": "code",
   "execution_count": 23,
   "id": "9c0940a4-ef78-4505-a711-4c7c7190fad2",
   "metadata": {},
   "outputs": [
    {
     "data": {
      "text/plain": [
       "(torch.Size([1010, 28, 28]), torch.Size([1028, 28, 28]))"
      ]
     },
     "execution_count": 23,
     "metadata": {},
     "output_type": "execute_result"
    }
   ],
   "source": [
    "stacked_tensors['testing'][3].shape, stacked_tensors['testing'][7].shape"
   ]
  },
  {
   "cell_type": "code",
   "execution_count": 24,
   "id": "a57c2f2d-eaab-458c-99f7-ca7d822bedf9",
   "metadata": {},
   "outputs": [
    {
     "data": {
      "text/plain": [
       "tensor(0.1114)"
      ]
     },
     "execution_count": 24,
     "metadata": {},
     "output_type": "execute_result"
    }
   ],
   "source": [
    "# calculates the mean absolute error, take the mean over the last two axes\n",
    "def mnist_distance(a,b): return (a-b).abs().mean((-1,-2))\n",
    "mnist_distance(a_3, means[3])"
   ]
  },
  {
   "cell_type": "code",
   "execution_count": 25,
   "id": "e1e39e8e-93ec-4078-a305-0d86adaf5433",
   "metadata": {},
   "outputs": [
    {
     "data": {
      "text/plain": [
       "(tensor([0.1280, 0.1623, 0.1242,  ..., 0.1508, 0.1263, 0.1260]),\n",
       " torch.Size([1010]))"
      ]
     },
     "execution_count": 25,
     "metadata": {},
     "output_type": "execute_result"
    }
   ],
   "source": [
    "valid_3_dist = mnist_distance(stacked_tensors['testing'][3], means[3])\n",
    "valid_3_dist, valid_3_dist.shape # the distance for every single image in the training set (vs the mean 3)"
   ]
  },
  {
   "cell_type": "code",
   "execution_count": 26,
   "id": "208797bf-bc92-47d8-b052-aaca1412c6df",
   "metadata": {},
   "outputs": [],
   "source": [
    "# get all distances, return index belonging to smallest\n",
    "def is_what(x):\n",
    "    distances = [mnist_distance(x, means[i]) for i in range(10)]\n",
    "    stacked_distances = torch.stack(distances)\n",
    "    _, max_indices = stacked_distances.min(dim=0)\n",
    "    return max_indices"
   ]
  },
  {
   "cell_type": "code",
   "execution_count": 27,
   "id": "4dc841d1-49ad-4768-955a-e91618cf2adc",
   "metadata": {},
   "outputs": [],
   "source": [
    "a_0 = stacked_tensors['training'][0][1]\n",
    "a_1 = stacked_tensors['training'][1][1]\n",
    "a_2 = stacked_tensors['training'][2][1]\n",
    "a_3 = stacked_tensors['training'][3][1]\n",
    "a_4 = stacked_tensors['training'][4][1]\n",
    "a_5 = stacked_tensors['training'][5][1]"
   ]
  },
  {
   "cell_type": "code",
   "execution_count": 28,
   "id": "3db51606-4759-4a67-9ed8-e7e6e96272b3",
   "metadata": {},
   "outputs": [
    {
     "data": {
      "text/plain": [
       "(tensor(5), tensor(1), tensor(2), tensor(3), tensor(9), tensor(1))"
      ]
     },
     "execution_count": 28,
     "metadata": {},
     "output_type": "execute_result"
    }
   ],
   "source": [
    "is_what(a_0), is_what(a_1), is_what(a_2), is_what(a_3), is_what(a_4), is_what(a_5) # should be 0, 1, 2, 3, 4, 5"
   ]
  },
  {
   "cell_type": "code",
   "execution_count": 29,
   "id": "b6fdb907-1668-4f05-8fbc-4008986cbb59",
   "metadata": {},
   "outputs": [],
   "source": [
    "def is_3(x): return is_what(x) == 3"
   ]
  },
  {
   "cell_type": "code",
   "execution_count": 30,
   "id": "ed18d2b4-15d4-4fce-a159-ea7a258245df",
   "metadata": {},
   "outputs": [
    {
     "data": {
      "text/plain": [
       "(tensor(True), tensor(1.))"
      ]
     },
     "execution_count": 30,
     "metadata": {},
     "output_type": "execute_result"
    }
   ],
   "source": [
    "is_3(a_3), is_3(a_3).float()"
   ]
  },
  {
   "cell_type": "code",
   "execution_count": 31,
   "id": "cabf2a5c-6679-4fa5-abf8-85ae71e3354a",
   "metadata": {},
   "outputs": [
    {
     "data": {
      "text/plain": [
       "tensor([False,  True,  True,  ..., False, False,  True])"
      ]
     },
     "execution_count": 31,
     "metadata": {},
     "output_type": "execute_result"
    }
   ],
   "source": [
    "is_3(stacked_tensors['testing'][3])"
   ]
  },
  {
   "cell_type": "code",
   "execution_count": 32,
   "id": "39e1ec74-a0e8-46db-b3d5-b45192b66f12",
   "metadata": {},
   "outputs": [],
   "source": [
    "def is_num(x, num): return is_what(x) == num"
   ]
  },
  {
   "cell_type": "code",
   "execution_count": 33,
   "id": "6c6b6d31-232f-4c6b-aede-4a5f8f94153a",
   "metadata": {},
   "outputs": [
    {
     "data": {
      "text/plain": [
       "tensor([1, 3, 3,  ..., 1, 8, 3])"
      ]
     },
     "execution_count": 33,
     "metadata": {},
     "output_type": "execute_result"
    }
   ],
   "source": [
    "t = is_what(stacked_tensors['testing'][3])\n",
    "t"
   ]
  },
  {
   "cell_type": "code",
   "execution_count": 34,
   "id": "b997dd21-dfea-4bb8-9362-bb14e716f6ad",
   "metadata": {},
   "outputs": [
    {
     "data": {
      "text/plain": [
       "tensor(0.6089)"
      ]
     },
     "execution_count": 34,
     "metadata": {},
     "output_type": "execute_result"
    }
   ],
   "source": [
    "accuracy_3s = is_3(stacked_tensors['testing'][3]).float().mean()\n",
    "accuracy_3s"
   ]
  },
  {
   "cell_type": "markdown",
   "id": "ad78e36d-66f0-4f2a-aa2e-663dd233a783",
   "metadata": {},
   "source": [
    "## Accuracy without training while using the distance to the mean to determine:"
   ]
  },
  {
   "cell_type": "code",
   "execution_count": 35,
   "id": "847f0d9d-06cc-450f-880f-53fbb3b40f5e",
   "metadata": {},
   "outputs": [
    {
     "name": "stdout",
     "output_type": "stream",
     "text": [
      "accuracy for 0's: 0.8153061270713806\n",
      "accuracy for 1's: 0.9982379078865051\n",
      "accuracy for 2's: 0.4234496057033539\n",
      "accuracy for 3's: 0.6089109182357788\n",
      "accuracy for 4's: 0.6680244207382202\n",
      "accuracy for 5's: 0.3262331783771515\n",
      "accuracy for 6's: 0.7870563864707947\n",
      "accuracy for 7's: 0.7645914554595947\n",
      "accuracy for 8's: 0.4425051212310791\n",
      "accuracy for 9's: 0.7760158777236938\n"
     ]
    }
   ],
   "source": [
    "# test accuracies\n",
    "accuracies = [is_num(stacked_tensors['testing'][i], i).float().mean() for i in range(10)]\n",
    "\n",
    "for i, accuracy in enumerate(accuracies):\n",
    "    print(f\"accuracy for {i}'s: {accuracy}\")"
   ]
  },
  {
   "cell_type": "code",
   "execution_count": 36,
   "id": "614f8e2a-7467-43e4-93f4-287199318ec6",
   "metadata": {},
   "outputs": [
    {
     "data": {
      "text/plain": [
       "(torch.Size([60000, 784]), torch.Size([60000, 10]))"
      ]
     },
     "execution_count": 36,
     "metadata": {},
     "output_type": "execute_result"
    }
   ],
   "source": [
    "# x - our independent variables, the actual images.\n",
    "# change from a list of matrices to a list of vectors\n",
    "# train_xx = torch.cat([stacked_tensors['training'][i] for i in range(10)]).view(-1, 28*28)\n",
    "train_x = torch.cat([*stacked_tensors['training']]).view(-1, 28*28)\n",
    "train_y = tensor([[1 if i == num else 0 for i in range(10)] for num, images in enumerate(tensors['training']) for _ in range(len(images))])\n",
    "train_x.shape, train_y.shape"
   ]
  },
  {
   "cell_type": "code",
   "execution_count": 37,
   "id": "328b10eb-76b7-4381-8003-626110a138ff",
   "metadata": {},
   "outputs": [],
   "source": [
    "# train_y = tensor([0]*len(stacked_tensors['training'][0]) + [1]*len(stacked_tensors['training'][1])).unsqueeze(1)\n",
    "# train_x.shape,train_y.shape"
   ]
  },
  {
   "cell_type": "code",
   "execution_count": 38,
   "id": "b17ea7c4-38f6-40b1-b2e3-ecfbd945c4df",
   "metadata": {},
   "outputs": [],
   "source": [
    "# we need a label for every image, naturally we use 0 for 0s, 1 for 1s, etc\n",
    "# labels = []\n",
    "# for i, stacked_tensor in enumerate(stacked_tensors['training']):\n",
    "#     labels += [i] * len(stacked_tensor)\n",
    "# train_y = tensor(labels).unsqueeze(1)\n",
    "# train_x.shape,train_y.shape"
   ]
  },
  {
   "cell_type": "code",
   "execution_count": 39,
   "id": "f3bff3a4-43cf-4c2f-8c4d-d8f3316cfa5a",
   "metadata": {},
   "outputs": [
    {
     "data": {
      "text/plain": [
       "(torch.Size([784]), tensor([1, 0, 0, 0, 0, 0, 0, 0, 0, 0]))"
      ]
     },
     "execution_count": 39,
     "metadata": {},
     "output_type": "execute_result"
    }
   ],
   "source": [
    "dset = list(zip(train_x, train_y))\n",
    "x,y = dset[0]\n",
    "x.shape,y"
   ]
  },
  {
   "cell_type": "code",
   "execution_count": 40,
   "id": "0e7353e7-f555-4452-a1c1-56f464073fc0",
   "metadata": {},
   "outputs": [
    {
     "data": {
      "text/plain": [
       "tensor([[1, 0, 0,  ..., 0, 0, 0],\n",
       "        [1, 0, 0,  ..., 0, 0, 0],\n",
       "        [1, 0, 0,  ..., 0, 0, 0],\n",
       "        ...,\n",
       "        [0, 0, 0,  ..., 0, 0, 1],\n",
       "        [0, 0, 0,  ..., 0, 0, 1],\n",
       "        [0, 0, 0,  ..., 0, 0, 1]])"
      ]
     },
     "execution_count": 40,
     "metadata": {},
     "output_type": "execute_result"
    }
   ],
   "source": [
    "train_y"
   ]
  },
  {
   "cell_type": "code",
   "execution_count": 41,
   "id": "01fde92d-05ed-4093-b091-8d6138787535",
   "metadata": {},
   "outputs": [
    {
     "data": {
      "text/plain": [
       "(torch.Size([784]), tensor([1, 0, 0, 0, 0, 0, 0, 0, 0, 0]))"
      ]
     },
     "execution_count": 41,
     "metadata": {},
     "output_type": "execute_result"
    }
   ],
   "source": [
    "# same thing but for the testing set\n",
    "test_x = torch.cat([*stacked_tensors['testing']]).view(-1, 28*28)\n",
    "test_y = tensor([[1 if i == num else 0 for i in range(10)] for num, images in enumerate(tensors['testing']) for _ in range(len(images))])\n",
    "test_x.shape, test_y.shape\n",
    "test_dset = list(zip(test_x, test_y))\n",
    "x,y = test_dset[0]\n",
    "x.shape,y"
   ]
  },
  {
   "cell_type": "code",
   "execution_count": 42,
   "id": "b1f3543d-d943-4569-b7b5-8e1ccd48d778",
   "metadata": {},
   "outputs": [],
   "source": [
    "# init with random values\n",
    "def init_params(size, std=1.0):\n",
    "    return (torch.randn(size)*std).requires_grad_()\n",
    "weights = init_params((28*28,10))\n",
    "bias = init_params(10)"
   ]
  },
  {
   "cell_type": "code",
   "execution_count": 43,
   "id": "84bc970c-15b4-44ec-a5d4-7e5afad028d1",
   "metadata": {},
   "outputs": [
    {
     "data": {
      "text/plain": [
       "tensor([[ 1.9269,  1.4873,  0.9007,  ..., -1.6047, -0.7521,  1.6487],\n",
       "        [-0.3925, -1.4036, -0.7279,  ..., -0.1596, -0.4974,  0.4396],\n",
       "        [-0.7581,  1.0783,  0.8008,  ...,  1.3347, -0.2316,  0.0418],\n",
       "        ...,\n",
       "        [-0.0560, -0.4547,  1.2942,  ...,  1.1133,  2.1901,  0.3531],\n",
       "        [ 0.4474,  0.7192, -1.9300,  ..., -0.8714,  0.2235,  0.2528],\n",
       "        [ 0.2169,  0.4700,  0.3268,  ...,  0.0470,  0.5487, -1.9951]], requires_grad=True)"
      ]
     },
     "execution_count": 43,
     "metadata": {},
     "output_type": "execute_result"
    }
   ],
   "source": [
    "weights"
   ]
  },
  {
   "cell_type": "code",
   "execution_count": 44,
   "id": "15156761-f726-4aae-8955-214152f3bfe7",
   "metadata": {},
   "outputs": [
    {
     "data": {
      "text/plain": [
       "(tensor([[-11.9867,  -4.2706,   4.6805,  ...,  -1.3517,  -0.0395,  13.5840],\n",
       "         [ -6.6797,  -4.4483,   1.4827,  ...,  -8.9409,   2.2570,  10.0881],\n",
       "         [-22.7994,   2.2295,  11.1160,  ...,  -1.8488,  25.5523,  22.3240],\n",
       "         ...,\n",
       "         [-16.7386,   4.0141,   3.9273,  ...,   1.5960,   9.7961,  12.3801],\n",
       "         [-14.1562,  -3.5679,   1.7541,  ...,   1.6506,  16.5308,  10.3213],\n",
       "         [-11.3688,   4.5965,   5.7170,  ...,  10.0353,   4.4967,   9.5438]], grad_fn=<AddBackward0>),\n",
       " torch.Size([60000, 10]))"
      ]
     },
     "execution_count": 44,
     "metadata": {},
     "output_type": "execute_result"
    }
   ],
   "source": [
    "# create the linear model that makes predictions\n",
    "def linear_model(xbatch): \n",
    "  return xbatch @ weights + bias\n",
    "preds = linear_model(train_x)\n",
    "preds, preds.shape"
   ]
  },
  {
   "cell_type": "code",
   "execution_count": 45,
   "id": "d3f8cb06-c9f6-47f4-8d1e-6b898b49d1ff",
   "metadata": {},
   "outputs": [],
   "source": [
    "# now we need to create a loss function\n",
    "def cross_entropy_loss(xbatch, ybatch):\n",
    "    probs = xbatch.softmax(dim=1)\n",
    "    loss = -(ybatch * probs.log()).sum() / len(probs)\n",
    "    return loss"
   ]
  },
  {
   "cell_type": "code",
   "execution_count": 46,
   "id": "5fc4c63e-5343-44f4-a58a-a7060b468307",
   "metadata": {},
   "outputs": [
    {
     "data": {
      "text/plain": [
       "(torch.Size([64, 784]), torch.Size([64, 10]))"
      ]
     },
     "execution_count": 46,
     "metadata": {},
     "output_type": "execute_result"
    }
   ],
   "source": [
    "dl = DataLoader(dset, batch_size = 64)\n",
    "test_dl = DataLoader(test_dset, batch_size = 64)\n",
    "a_batch = first(dl)\n",
    "a_batch[0].shape, a_batch[1].shape"
   ]
  },
  {
   "cell_type": "code",
   "execution_count": 47,
   "id": "d090d87b-bb24-4427-851d-4db3d0a52de1",
   "metadata": {},
   "outputs": [
    {
     "data": {
      "text/plain": [
       "tensor(31.1885, grad_fn=<DivBackward0>)"
      ]
     },
     "execution_count": 47,
     "metadata": {},
     "output_type": "execute_result"
    }
   ],
   "source": [
    "images, labels = a_batch\n",
    "preds = linear_model(images)\n",
    "loss = cross_entropy_loss(preds, labels)\n",
    "loss"
   ]
  },
  {
   "cell_type": "code",
   "execution_count": 48,
   "id": "ec4ae342-8e60-475d-9132-cbd6bdb3a27e",
   "metadata": {},
   "outputs": [
    {
     "data": {
      "text/plain": [
       "tensor(31.0682, grad_fn=<DivBackward0>)"
      ]
     },
     "execution_count": 48,
     "metadata": {},
     "output_type": "execute_result"
    }
   ],
   "source": [
    "# Backpropagate the loss to update the weights and bias\n",
    "loss.backward()\n",
    "lr = 1e-3\n",
    "weights.data -= weights.grad * lr\n",
    "bias.data -= bias.grad * lr\n",
    "weights.grad.zero_()\n",
    "bias.grad.zero_();\n",
    "preds = linear_model(images)\n",
    "loss = cross_entropy_loss(preds, labels)\n",
    "loss"
   ]
  },
  {
   "cell_type": "code",
   "execution_count": 49,
   "id": "a5dc6f97-d2d4-4ecc-b7ab-6767eed66b10",
   "metadata": {},
   "outputs": [],
   "source": [
    "# func for calculating/updating gradients\n",
    "def calc_grad(xbatch, ybatch, model):\n",
    "    preds = model(xbatch) # make predictions\n",
    "    loss = cross_entropy_loss(preds, ybatch) # compare predictions with labels\n",
    "    loss.backward() # calculate gradients"
   ]
  },
  {
   "cell_type": "code",
   "execution_count": 50,
   "id": "070705d0-b435-4491-9907-17ded38a9f54",
   "metadata": {},
   "outputs": [],
   "source": [
    "def batch_accuracy(xpreds, ybatch):\n",
    "    # ex. the ybatch vector for 1 will be [0, 1, 0, 0, ... 0] and the xbatch will be the predictions ex. [0.23, 0.22, ..., 0.12]\n",
    "    return (xpreds.max(1).indices == ybatch.max(1).indices).float().mean()"
   ]
  },
  {
   "cell_type": "code",
   "execution_count": 51,
   "id": "3d02fce7-e788-462a-8187-d06e47f0c650",
   "metadata": {},
   "outputs": [
    {
     "data": {
      "text/plain": [
       "0.1222"
      ]
     },
     "execution_count": 51,
     "metadata": {},
     "output_type": "execute_result"
    }
   ],
   "source": [
    "# measure the overall accuracy\n",
    "def validate_epoch(model):\n",
    "  accs = [batch_accuracy(model(xbatch), ybatch) for xbatch, ybatch in test_dl]\n",
    "  return round(torch.stack(accs).mean().item(), 4)\n",
    "validate_epoch(linear_model)"
   ]
  },
  {
   "cell_type": "code",
   "execution_count": 52,
   "id": "5f3b5bff-a1b2-4725-b1d5-a2699e3b9661",
   "metadata": {},
   "outputs": [],
   "source": [
    "# Check to see if the accuracy increases after training for one epoch\n",
    "def train_epoch(model, lr, params):\n",
    "    for xb, yb in dl:\n",
    "        calc_grad(xb, yb, model)\n",
    "        for p in params:\n",
    "            p.data -= p.grad * lr\n",
    "            p.grad.zero_()"
   ]
  },
  {
   "cell_type": "code",
   "execution_count": 53,
   "id": "12d393bc-ca86-48f7-abcc-bc5d1ecc4062",
   "metadata": {},
   "outputs": [
    {
     "data": {
      "text/plain": [
       "0.1511"
      ]
     },
     "execution_count": 53,
     "metadata": {},
     "output_type": "execute_result"
    }
   ],
   "source": [
    "lr = 1e-3\n",
    "params = weights, bias\n",
    "train_epoch(linear_model, lr, params)\n",
    "validate_epoch(linear_model)"
   ]
  },
  {
   "cell_type": "code",
   "execution_count": 54,
   "id": "f78d9ac6-faf1-4807-a922-b644c25213aa",
   "metadata": {},
   "outputs": [
    {
     "name": "stdout",
     "output_type": "stream",
     "text": [
      "0.1743 0.2045 0.2334 0.2675 0.3043 0.3391 0.3707 0.3969 0.4203 0.4448 0.4669 0.4853 0.5038 0.5194 0.5359 0.5487 0.5594 0.5722 0.5832 0.5912 0.6013 0.6091 0.6164 0.6234 0.6318 0.6386 0.6474 0.6547 0.6597 0.6651 0.671 0.6749 0.6798 0.6848 0.6878 0.6917 0.6948 0.6985 0.7019 0.706 0.7096 0.7121 0.7147 0.7174 0.7192 0.7214 0.7239 0.7265 0.7293 0.7323 "
     ]
    }
   ],
   "source": [
    "for i in range(50):\n",
    "    train_epoch(linear_model, lr, params)\n",
    "    print(validate_epoch(linear_model), end=' ')"
   ]
  },
  {
   "cell_type": "markdown",
   "id": "a36b1379-2e89-4f78-b98c-14a336edd7ca",
   "metadata": {},
   "source": [
    "## Creating an Optimizer"
   ]
  },
  {
   "cell_type": "code",
   "execution_count": 55,
   "id": "d4d07593-5e6b-4143-b003-31a5575b6928",
   "metadata": {},
   "outputs": [],
   "source": [
    "## nn.Linear does the same thing as init_params and linear_model together\n",
    "linear_model = nn.Linear(28 * 28, 10) # input: (28 * 28)px, output: a value between 0 and 9"
   ]
  },
  {
   "cell_type": "code",
   "execution_count": 56,
   "id": "765541e5-ec69-4b95-94eb-09828f9f4d37",
   "metadata": {},
   "outputs": [
    {
     "data": {
      "text/plain": [
       "(torch.Size([10, 784]), torch.Size([10]))"
      ]
     },
     "execution_count": 56,
     "metadata": {},
     "output_type": "execute_result"
    }
   ],
   "source": [
    "w, b = linear_model.parameters()\n",
    "w.shape, b.shape"
   ]
  },
  {
   "cell_type": "code",
   "execution_count": 57,
   "id": "6f1a43e0-b75e-4c5f-8808-e8aee75f6b98",
   "metadata": {},
   "outputs": [],
   "source": [
    "# SGD is provided by fastai\n",
    "opt = SGD(linear_model.parameters(), lr)"
   ]
  },
  {
   "cell_type": "code",
   "execution_count": 58,
   "id": "b05b2aa7-9ce4-4d01-aba2-692748098afa",
   "metadata": {},
   "outputs": [],
   "source": [
    "def train_epoch(model):\n",
    "    for xb, yb in dl:\n",
    "        calc_grad(xb, yb, model)\n",
    "        opt.step()\n",
    "        opt.zero_grad()"
   ]
  },
  {
   "cell_type": "code",
   "execution_count": 59,
   "id": "c20089dd-f1c3-44e8-b40f-c178787f4d15",
   "metadata": {},
   "outputs": [],
   "source": [
    "def train_model(model, epochs):\n",
    "    for i in range(epochs):\n",
    "        train_epoch(model)\n",
    "        print(validate_epoch(model), end=' ')"
   ]
  },
  {
   "cell_type": "code",
   "execution_count": 60,
   "id": "9909339d-d4a4-47dc-8812-13baed12b353",
   "metadata": {},
   "outputs": [
    {
     "name": "stdout",
     "output_type": "stream",
     "text": [
      "0.1398 0.3634 0.5144 0.6046 0.6667 0.706 0.7343 0.7567 0.7764 0.7902 0.8013 0.8108 0.8183 0.8253 0.8314 0.8371 0.8424 0.8459 0.8497 0.8517 "
     ]
    }
   ],
   "source": [
    "train_model(linear_model, 20)"
   ]
  },
  {
   "cell_type": "code",
   "execution_count": 61,
   "id": "a80e32b4-9f2c-450e-8f6f-c71e01afb66e",
   "metadata": {},
   "outputs": [],
   "source": [
    "# We can also use fastai's Learner.fit which takes in a DataLoaders object\n",
    "dls = DataLoaders(dl, test_dl)"
   ]
  },
  {
   "cell_type": "code",
   "execution_count": 62,
   "id": "2979cae3-7e43-4ce2-acb3-cc942cb5111a",
   "metadata": {},
   "outputs": [],
   "source": [
    "linear_model = nn.Linear(28 * 28, 10)\n",
    "learn = Learner(dls, linear_model, opt_func = SGD,\n",
    "                loss_func = cross_entropy_loss, metrics = batch_accuracy)"
   ]
  },
  {
   "cell_type": "code",
   "execution_count": 63,
   "id": "f9123a8c-f47c-4754-891f-9f6f2d0febff",
   "metadata": {},
   "outputs": [
    {
     "data": {
      "text/html": [
       "\n",
       "<style>\n",
       "    /* Turns off some styling */\n",
       "    progress {\n",
       "        /* gets rid of default border in Firefox and Opera. */\n",
       "        border: none;\n",
       "        /* Needs to be in here for Safari polyfill so background images work as expected. */\n",
       "        background-size: auto;\n",
       "    }\n",
       "    progress:not([value]), progress:not([value])::-webkit-progress-bar {\n",
       "        background: repeating-linear-gradient(45deg, #7e7e7e, #7e7e7e 10px, #5c5c5c 10px, #5c5c5c 20px);\n",
       "    }\n",
       "    .progress-bar-interrupted, .progress-bar-interrupted::-webkit-progress-bar {\n",
       "        background: #F44336;\n",
       "    }\n",
       "</style>\n"
      ],
      "text/plain": [
       "<IPython.core.display.HTML object>"
      ]
     },
     "metadata": {},
     "output_type": "display_data"
    },
    {
     "data": {
      "text/html": [
       "<table border=\"1\" class=\"dataframe\">\n",
       "  <thead>\n",
       "    <tr style=\"text-align: left;\">\n",
       "      <th>epoch</th>\n",
       "      <th>train_loss</th>\n",
       "      <th>valid_loss</th>\n",
       "      <th>batch_accuracy</th>\n",
       "      <th>time</th>\n",
       "    </tr>\n",
       "  </thead>\n",
       "  <tbody>\n",
       "    <tr>\n",
       "      <td>0</td>\n",
       "      <td>1.501554</td>\n",
       "      <td>1.984323</td>\n",
       "      <td>0.131000</td>\n",
       "      <td>00:00</td>\n",
       "    </tr>\n",
       "    <tr>\n",
       "      <td>1</td>\n",
       "      <td>1.091068</td>\n",
       "      <td>1.607874</td>\n",
       "      <td>0.369400</td>\n",
       "      <td>00:00</td>\n",
       "    </tr>\n",
       "    <tr>\n",
       "      <td>2</td>\n",
       "      <td>0.947397</td>\n",
       "      <td>1.331765</td>\n",
       "      <td>0.510100</td>\n",
       "      <td>00:00</td>\n",
       "    </tr>\n",
       "    <tr>\n",
       "      <td>3</td>\n",
       "      <td>0.859587</td>\n",
       "      <td>1.149919</td>\n",
       "      <td>0.594300</td>\n",
       "      <td>00:00</td>\n",
       "    </tr>\n",
       "    <tr>\n",
       "      <td>4</td>\n",
       "      <td>0.798525</td>\n",
       "      <td>1.023337</td>\n",
       "      <td>0.660700</td>\n",
       "      <td>00:00</td>\n",
       "    </tr>\n",
       "    <tr>\n",
       "      <td>5</td>\n",
       "      <td>0.753229</td>\n",
       "      <td>0.930493</td>\n",
       "      <td>0.705500</td>\n",
       "      <td>00:00</td>\n",
       "    </tr>\n",
       "    <tr>\n",
       "      <td>6</td>\n",
       "      <td>0.718085</td>\n",
       "      <td>0.859542</td>\n",
       "      <td>0.734200</td>\n",
       "      <td>00:00</td>\n",
       "    </tr>\n",
       "    <tr>\n",
       "      <td>7</td>\n",
       "      <td>0.689882</td>\n",
       "      <td>0.803546</td>\n",
       "      <td>0.756200</td>\n",
       "      <td>00:00</td>\n",
       "    </tr>\n",
       "    <tr>\n",
       "      <td>8</td>\n",
       "      <td>0.666649</td>\n",
       "      <td>0.758203</td>\n",
       "      <td>0.775600</td>\n",
       "      <td>00:00</td>\n",
       "    </tr>\n",
       "    <tr>\n",
       "      <td>9</td>\n",
       "      <td>0.647110</td>\n",
       "      <td>0.720713</td>\n",
       "      <td>0.790100</td>\n",
       "      <td>00:00</td>\n",
       "    </tr>\n",
       "    <tr>\n",
       "      <td>10</td>\n",
       "      <td>0.630398</td>\n",
       "      <td>0.689176</td>\n",
       "      <td>0.800300</td>\n",
       "      <td>00:00</td>\n",
       "    </tr>\n",
       "    <tr>\n",
       "      <td>11</td>\n",
       "      <td>0.615905</td>\n",
       "      <td>0.662258</td>\n",
       "      <td>0.808300</td>\n",
       "      <td>00:00</td>\n",
       "    </tr>\n",
       "    <tr>\n",
       "      <td>12</td>\n",
       "      <td>0.603189</td>\n",
       "      <td>0.638998</td>\n",
       "      <td>0.818200</td>\n",
       "      <td>00:00</td>\n",
       "    </tr>\n",
       "    <tr>\n",
       "      <td>13</td>\n",
       "      <td>0.591919</td>\n",
       "      <td>0.618684</td>\n",
       "      <td>0.826000</td>\n",
       "      <td>00:00</td>\n",
       "    </tr>\n",
       "    <tr>\n",
       "      <td>14</td>\n",
       "      <td>0.581847</td>\n",
       "      <td>0.600778</td>\n",
       "      <td>0.831100</td>\n",
       "      <td>00:00</td>\n",
       "    </tr>\n",
       "    <tr>\n",
       "      <td>15</td>\n",
       "      <td>0.572775</td>\n",
       "      <td>0.584867</td>\n",
       "      <td>0.835600</td>\n",
       "      <td>00:00</td>\n",
       "    </tr>\n",
       "    <tr>\n",
       "      <td>16</td>\n",
       "      <td>0.564552</td>\n",
       "      <td>0.570626</td>\n",
       "      <td>0.840300</td>\n",
       "      <td>00:00</td>\n",
       "    </tr>\n",
       "    <tr>\n",
       "      <td>17</td>\n",
       "      <td>0.557053</td>\n",
       "      <td>0.557798</td>\n",
       "      <td>0.844900</td>\n",
       "      <td>00:00</td>\n",
       "    </tr>\n",
       "    <tr>\n",
       "      <td>18</td>\n",
       "      <td>0.550180</td>\n",
       "      <td>0.546178</td>\n",
       "      <td>0.848000</td>\n",
       "      <td>00:00</td>\n",
       "    </tr>\n",
       "    <tr>\n",
       "      <td>19</td>\n",
       "      <td>0.543849</td>\n",
       "      <td>0.535596</td>\n",
       "      <td>0.851500</td>\n",
       "      <td>00:00</td>\n",
       "    </tr>\n",
       "  </tbody>\n",
       "</table>"
      ],
      "text/plain": [
       "<IPython.core.display.HTML object>"
      ]
     },
     "metadata": {},
     "output_type": "display_data"
    }
   ],
   "source": [
    "learn.fit(20, lr=lr)"
   ]
  },
  {
   "cell_type": "markdown",
   "id": "b109d10b-842b-4a0e-bf12-38360096819e",
   "metadata": {},
   "source": [
    "## Adding non-linearity\n",
    "Adding something non-linear between two linear classifiers is what gives us a neural network"
   ]
  },
  {
   "cell_type": "code",
   "execution_count": 64,
   "id": "94b46609-678a-4e75-a3d1-8adcbae0a172",
   "metadata": {},
   "outputs": [],
   "source": [
    "simple_net = nn.Sequential(\n",
    "    nn.Linear(28 * 28, 120),\n",
    "    nn.ReLU(),\n",
    "    nn.Linear(120, 10)\n",
    ")"
   ]
  },
  {
   "cell_type": "code",
   "execution_count": 65,
   "id": "b9fc9af5-ecbf-49d9-adad-3319b0bf803d",
   "metadata": {},
   "outputs": [
    {
     "data": {
      "text/html": [
       "\n",
       "<style>\n",
       "    /* Turns off some styling */\n",
       "    progress {\n",
       "        /* gets rid of default border in Firefox and Opera. */\n",
       "        border: none;\n",
       "        /* Needs to be in here for Safari polyfill so background images work as expected. */\n",
       "        background-size: auto;\n",
       "    }\n",
       "    progress:not([value]), progress:not([value])::-webkit-progress-bar {\n",
       "        background: repeating-linear-gradient(45deg, #7e7e7e, #7e7e7e 10px, #5c5c5c 10px, #5c5c5c 20px);\n",
       "    }\n",
       "    .progress-bar-interrupted, .progress-bar-interrupted::-webkit-progress-bar {\n",
       "        background: #F44336;\n",
       "    }\n",
       "</style>\n"
      ],
      "text/plain": [
       "<IPython.core.display.HTML object>"
      ]
     },
     "metadata": {},
     "output_type": "display_data"
    },
    {
     "data": {
      "text/html": [
       "<table border=\"1\" class=\"dataframe\">\n",
       "  <thead>\n",
       "    <tr style=\"text-align: left;\">\n",
       "      <th>epoch</th>\n",
       "      <th>train_loss</th>\n",
       "      <th>valid_loss</th>\n",
       "      <th>batch_accuracy</th>\n",
       "      <th>time</th>\n",
       "    </tr>\n",
       "  </thead>\n",
       "  <tbody>\n",
       "    <tr>\n",
       "      <td>0</td>\n",
       "      <td>2.220926</td>\n",
       "      <td>2.133001</td>\n",
       "      <td>0.296900</td>\n",
       "      <td>00:00</td>\n",
       "    </tr>\n",
       "    <tr>\n",
       "      <td>1</td>\n",
       "      <td>1.700319</td>\n",
       "      <td>1.993476</td>\n",
       "      <td>0.188600</td>\n",
       "      <td>00:00</td>\n",
       "    </tr>\n",
       "    <tr>\n",
       "      <td>2</td>\n",
       "      <td>1.239091</td>\n",
       "      <td>1.859884</td>\n",
       "      <td>0.252000</td>\n",
       "      <td>00:00</td>\n",
       "    </tr>\n",
       "    <tr>\n",
       "      <td>3</td>\n",
       "      <td>0.949884</td>\n",
       "      <td>1.701586</td>\n",
       "      <td>0.342000</td>\n",
       "      <td>00:00</td>\n",
       "    </tr>\n",
       "    <tr>\n",
       "      <td>4</td>\n",
       "      <td>0.779012</td>\n",
       "      <td>1.543639</td>\n",
       "      <td>0.396400</td>\n",
       "      <td>00:00</td>\n",
       "    </tr>\n",
       "    <tr>\n",
       "      <td>5</td>\n",
       "      <td>0.672399</td>\n",
       "      <td>1.408864</td>\n",
       "      <td>0.434600</td>\n",
       "      <td>00:00</td>\n",
       "    </tr>\n",
       "    <tr>\n",
       "      <td>6</td>\n",
       "      <td>0.601010</td>\n",
       "      <td>1.299374</td>\n",
       "      <td>0.466900</td>\n",
       "      <td>00:00</td>\n",
       "    </tr>\n",
       "    <tr>\n",
       "      <td>7</td>\n",
       "      <td>0.550172</td>\n",
       "      <td>1.210245</td>\n",
       "      <td>0.497400</td>\n",
       "      <td>00:00</td>\n",
       "    </tr>\n",
       "    <tr>\n",
       "      <td>8</td>\n",
       "      <td>0.512295</td>\n",
       "      <td>1.136342</td>\n",
       "      <td>0.526800</td>\n",
       "      <td>00:00</td>\n",
       "    </tr>\n",
       "    <tr>\n",
       "      <td>9</td>\n",
       "      <td>0.482999</td>\n",
       "      <td>1.073880</td>\n",
       "      <td>0.553300</td>\n",
       "      <td>00:00</td>\n",
       "    </tr>\n",
       "    <tr>\n",
       "      <td>10</td>\n",
       "      <td>0.459663</td>\n",
       "      <td>1.020271</td>\n",
       "      <td>0.578100</td>\n",
       "      <td>00:00</td>\n",
       "    </tr>\n",
       "    <tr>\n",
       "      <td>11</td>\n",
       "      <td>0.440533</td>\n",
       "      <td>0.973642</td>\n",
       "      <td>0.599300</td>\n",
       "      <td>00:00</td>\n",
       "    </tr>\n",
       "    <tr>\n",
       "      <td>12</td>\n",
       "      <td>0.424597</td>\n",
       "      <td>0.932629</td>\n",
       "      <td>0.621200</td>\n",
       "      <td>00:00</td>\n",
       "    </tr>\n",
       "    <tr>\n",
       "      <td>13</td>\n",
       "      <td>0.411081</td>\n",
       "      <td>0.896316</td>\n",
       "      <td>0.637000</td>\n",
       "      <td>00:00</td>\n",
       "    </tr>\n",
       "    <tr>\n",
       "      <td>14</td>\n",
       "      <td>0.399431</td>\n",
       "      <td>0.863863</td>\n",
       "      <td>0.651100</td>\n",
       "      <td>00:00</td>\n",
       "    </tr>\n",
       "    <tr>\n",
       "      <td>15</td>\n",
       "      <td>0.389292</td>\n",
       "      <td>0.834688</td>\n",
       "      <td>0.663400</td>\n",
       "      <td>00:00</td>\n",
       "    </tr>\n",
       "    <tr>\n",
       "      <td>16</td>\n",
       "      <td>0.380382</td>\n",
       "      <td>0.808287</td>\n",
       "      <td>0.677100</td>\n",
       "      <td>00:00</td>\n",
       "    </tr>\n",
       "    <tr>\n",
       "      <td>17</td>\n",
       "      <td>0.372474</td>\n",
       "      <td>0.784323</td>\n",
       "      <td>0.688800</td>\n",
       "      <td>00:00</td>\n",
       "    </tr>\n",
       "    <tr>\n",
       "      <td>18</td>\n",
       "      <td>0.365414</td>\n",
       "      <td>0.762476</td>\n",
       "      <td>0.700100</td>\n",
       "      <td>00:00</td>\n",
       "    </tr>\n",
       "    <tr>\n",
       "      <td>19</td>\n",
       "      <td>0.359073</td>\n",
       "      <td>0.742451</td>\n",
       "      <td>0.708900</td>\n",
       "      <td>00:00</td>\n",
       "    </tr>\n",
       "    <tr>\n",
       "      <td>20</td>\n",
       "      <td>0.353315</td>\n",
       "      <td>0.724029</td>\n",
       "      <td>0.717900</td>\n",
       "      <td>00:00</td>\n",
       "    </tr>\n",
       "    <tr>\n",
       "      <td>21</td>\n",
       "      <td>0.348119</td>\n",
       "      <td>0.707000</td>\n",
       "      <td>0.724500</td>\n",
       "      <td>00:00</td>\n",
       "    </tr>\n",
       "    <tr>\n",
       "      <td>22</td>\n",
       "      <td>0.343384</td>\n",
       "      <td>0.691198</td>\n",
       "      <td>0.731000</td>\n",
       "      <td>00:00</td>\n",
       "    </tr>\n",
       "    <tr>\n",
       "      <td>23</td>\n",
       "      <td>0.339042</td>\n",
       "      <td>0.676541</td>\n",
       "      <td>0.739100</td>\n",
       "      <td>00:00</td>\n",
       "    </tr>\n",
       "    <tr>\n",
       "      <td>24</td>\n",
       "      <td>0.335034</td>\n",
       "      <td>0.662902</td>\n",
       "      <td>0.744500</td>\n",
       "      <td>00:00</td>\n",
       "    </tr>\n",
       "    <tr>\n",
       "      <td>25</td>\n",
       "      <td>0.331331</td>\n",
       "      <td>0.650210</td>\n",
       "      <td>0.751500</td>\n",
       "      <td>00:00</td>\n",
       "    </tr>\n",
       "    <tr>\n",
       "      <td>26</td>\n",
       "      <td>0.327901</td>\n",
       "      <td>0.638309</td>\n",
       "      <td>0.757700</td>\n",
       "      <td>00:00</td>\n",
       "    </tr>\n",
       "    <tr>\n",
       "      <td>27</td>\n",
       "      <td>0.324727</td>\n",
       "      <td>0.627091</td>\n",
       "      <td>0.763100</td>\n",
       "      <td>00:00</td>\n",
       "    </tr>\n",
       "    <tr>\n",
       "      <td>28</td>\n",
       "      <td>0.321759</td>\n",
       "      <td>0.616554</td>\n",
       "      <td>0.769300</td>\n",
       "      <td>00:00</td>\n",
       "    </tr>\n",
       "    <tr>\n",
       "      <td>29</td>\n",
       "      <td>0.318964</td>\n",
       "      <td>0.606628</td>\n",
       "      <td>0.775300</td>\n",
       "      <td>00:00</td>\n",
       "    </tr>\n",
       "    <tr>\n",
       "      <td>30</td>\n",
       "      <td>0.316345</td>\n",
       "      <td>0.597257</td>\n",
       "      <td>0.780500</td>\n",
       "      <td>00:00</td>\n",
       "    </tr>\n",
       "    <tr>\n",
       "      <td>31</td>\n",
       "      <td>0.313864</td>\n",
       "      <td>0.588404</td>\n",
       "      <td>0.785700</td>\n",
       "      <td>00:00</td>\n",
       "    </tr>\n",
       "    <tr>\n",
       "      <td>32</td>\n",
       "      <td>0.311498</td>\n",
       "      <td>0.580040</td>\n",
       "      <td>0.789700</td>\n",
       "      <td>00:00</td>\n",
       "    </tr>\n",
       "    <tr>\n",
       "      <td>33</td>\n",
       "      <td>0.309274</td>\n",
       "      <td>0.572087</td>\n",
       "      <td>0.793800</td>\n",
       "      <td>00:00</td>\n",
       "    </tr>\n",
       "    <tr>\n",
       "      <td>34</td>\n",
       "      <td>0.307153</td>\n",
       "      <td>0.564541</td>\n",
       "      <td>0.796900</td>\n",
       "      <td>00:00</td>\n",
       "    </tr>\n",
       "    <tr>\n",
       "      <td>35</td>\n",
       "      <td>0.305138</td>\n",
       "      <td>0.557349</td>\n",
       "      <td>0.800500</td>\n",
       "      <td>00:00</td>\n",
       "    </tr>\n",
       "    <tr>\n",
       "      <td>36</td>\n",
       "      <td>0.303218</td>\n",
       "      <td>0.550496</td>\n",
       "      <td>0.804100</td>\n",
       "      <td>00:00</td>\n",
       "    </tr>\n",
       "    <tr>\n",
       "      <td>37</td>\n",
       "      <td>0.301377</td>\n",
       "      <td>0.543931</td>\n",
       "      <td>0.806500</td>\n",
       "      <td>00:00</td>\n",
       "    </tr>\n",
       "    <tr>\n",
       "      <td>38</td>\n",
       "      <td>0.299618</td>\n",
       "      <td>0.537686</td>\n",
       "      <td>0.809100</td>\n",
       "      <td>00:00</td>\n",
       "    </tr>\n",
       "    <tr>\n",
       "      <td>39</td>\n",
       "      <td>0.297932</td>\n",
       "      <td>0.531692</td>\n",
       "      <td>0.811600</td>\n",
       "      <td>00:00</td>\n",
       "    </tr>\n",
       "  </tbody>\n",
       "</table>"
      ],
      "text/plain": [
       "<IPython.core.display.HTML object>"
      ]
     },
     "metadata": {},
     "output_type": "display_data"
    }
   ],
   "source": [
    "learn = Learner(dls, simple_net, opt_func = SGD,\n",
    "                loss_func = cross_entropy_loss, metrics = batch_accuracy)\n",
    "learn.fit(40, lr)"
   ]
  },
  {
   "cell_type": "code",
   "execution_count": 66,
   "id": "24ab0c59-b268-44d2-ae59-051279a9170f",
   "metadata": {},
   "outputs": [
    {
     "data": {
      "image/png": "[encoded data removed]",
      "text/plain": [
       "<Figure size 640x480 with 1 Axes>"
      ]
     },
     "metadata": {},
     "output_type": "display_data"
    }
   ],
   "source": [
    "# view accuracy graph\n",
    "plt.plot(L(learn.recorder.values).itemgot(2));"
   ]
  },
  {
   "cell_type": "code",
   "execution_count": 67,
   "id": "353abf4d-c4f9-4833-a361-307c522ae293",
   "metadata": {},
   "outputs": [
    {
     "name": "stdout",
     "output_type": "stream",
     "text": [
      "final accuracy: 0.8116000294685364\n"
     ]
    }
   ],
   "source": [
    "print(f\"final accuracy: {learn.recorder.values[-1][2]}\")"
   ]
  },
  {
   "cell_type": "markdown",
   "id": "2d7713b6-f0a7-43ce-b5b8-9fd31eb531c4",
   "metadata": {},
   "source": [
    "## Using resnet18"
   ]
  },
  {
   "cell_type": "code",
   "execution_count": 68,
   "id": "232c8aa4-6cfb-401d-8e5e-c02328f96f4b",
   "metadata": {},
   "outputs": [],
   "source": [
    "dls = ImageDataLoaders.from_folder(path, train='training', valid='testing')"
   ]
  },
  {
   "cell_type": "code",
   "execution_count": null,
   "id": "511b52c5-7dda-4ced-9a11-f4b8ffc3ceff",
   "metadata": {},
   "outputs": [],
   "source": [
    "learn = vision_learner(dls, resnet18, pretrained=False, metrics=accuracy)\n",
    "learn.fit_one_cycle(1, 0.1)"
   ]
  }
 ],
 "metadata": {
  "kernelspec": {
   "display_name": "Python 3 (ipykernel)",
   "language": "python",
   "name": "python3"
  },
  "language_info": {
   "codemirror_mode": {
    "name": "ipython",
    "version": 3
   },
   "file_extension": ".py",
   "mimetype": "text/x-python",
   "name": "python",
   "nbconvert_exporter": "python",
   "pygments_lexer": "ipython3",
   "version": "3.10.8"
  }
 },
 "nbformat": 4,
 "nbformat_minor": 5
}
