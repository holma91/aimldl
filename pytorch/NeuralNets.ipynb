{
 "cells": [
  {
   "cell_type": "code",
   "execution_count": 13,
   "id": "90b548db-ce08-4fbc-aae0-93e5224ddfa7",
   "metadata": {},
   "outputs": [],
   "source": [
    "import os\n",
    "import torch\n",
    "from torch import nn\n",
    "from torch.utils.data import DataLoader\n",
    "from torchvision import datasets, transforms"
   ]
  },
  {
   "cell_type": "code",
   "execution_count": 14,
   "id": "4a216354-2600-4fa0-bc76-c74de8adc150",
   "metadata": {},
   "outputs": [
    {
     "name": "stdout",
     "output_type": "stream",
     "text": [
      "Using mps device\n"
     ]
    }
   ],
   "source": [
    "device = \"mps\" if torch.backends.mps.is_available() else \"cpu\"\n",
    "print(f\"Using {device} device\")"
   ]
  },
  {
   "cell_type": "code",
   "execution_count": 16,
   "id": "67601aac-7f3c-4068-8903-5944fa30f769",
   "metadata": {},
   "outputs": [],
   "source": [
    "# define the NN by subclassing nn.Module.\n",
    "class NeuralNetwork(nn.Module):\n",
    "    def __init__(self):\n",
    "        super(NeuralNetwork, self).__init__()\n",
    "        self.flatten = nn.Flatten()\n",
    "        self.linear_relu_stack = nn.Sequential(\n",
    "            nn.Linear(28*28, 512),\n",
    "            nn.ReLU(),\n",
    "            nn.Linear(512, 512),\n",
    "            nn.ReLU(),\n",
    "            nn.Linear(512, 10),\n",
    "        )\n",
    "\n",
    "    def forward(self, x):\n",
    "        x = self.flatten(x)\n",
    "        logits = self.linear_relu_stack(x)\n",
    "        return logits"
   ]
  },
  {
   "cell_type": "code",
   "execution_count": 17,
   "id": "ea118111-e80f-40b7-b59a-0ce8e17cef07",
   "metadata": {},
   "outputs": [
    {
     "name": "stdout",
     "output_type": "stream",
     "text": [
      "NeuralNetwork(\n",
      "  (flatten): Flatten(start_dim=1, end_dim=-1)\n",
      "  (linear_relu_stack): Sequential(\n",
      "    (0): Linear(in_features=784, out_features=512, bias=True)\n",
      "    (1): ReLU()\n",
      "    (2): Linear(in_features=512, out_features=512, bias=True)\n",
      "    (3): ReLU()\n",
      "    (4): Linear(in_features=512, out_features=10, bias=True)\n",
      "  )\n",
      ")\n"
     ]
    }
   ],
   "source": [
    "model = NeuralNetwork().to(device)\n",
    "print(model)"
   ]
  },
  {
   "cell_type": "code",
   "execution_count": 18,
   "id": "96ed24f7-db76-40d9-b691-1ba531648807",
   "metadata": {},
   "outputs": [
    {
     "name": "stdout",
     "output_type": "stream",
     "text": [
      "Predicted class: tensor([9], device='mps:0')\n"
     ]
    }
   ],
   "source": [
    "X = torch.rand(1, 28, 28, device=device)\n",
    "logits = model(X) # pass it some random input data\n",
    "pred_probab = nn.Softmax(dim=1)(logits)\n",
    "y_pred = pred_probab.argmax(1)\n",
    "print(f\"Predicted class: {y_pred}\")"
   ]
  },
  {
   "cell_type": "code",
   "execution_count": 19,
   "id": "4497cf3c-ece7-42ae-a2e1-08458a7bf408",
   "metadata": {},
   "outputs": [
    {
     "name": "stdout",
     "output_type": "stream",
     "text": [
      "torch.Size([3, 28, 28])\n"
     ]
    }
   ],
   "source": [
    "input_image = torch.rand(3,28,28)\n",
    "print(input_image.size())"
   ]
  },
  {
   "cell_type": "code",
   "execution_count": 20,
   "id": "df68e169-4a6f-4c87-bcb2-c1de88adc192",
   "metadata": {},
   "outputs": [
    {
     "data": {
      "text/plain": [
       "torch.Size([3, 784])"
      ]
     },
     "execution_count": 20,
     "metadata": {},
     "output_type": "execute_result"
    }
   ],
   "source": [
    "# flatten the input image\n",
    "flatten = nn.Flatten()\n",
    "flat_image = flatten(input_image)\n",
    "flat_image.size()"
   ]
  },
  {
   "cell_type": "code",
   "execution_count": 22,
   "id": "93d37f5e-7e06-401a-a6d7-43a09e157894",
   "metadata": {},
   "outputs": [
    {
     "name": "stdout",
     "output_type": "stream",
     "text": [
      "torch.Size([3, 20])\n"
     ]
    }
   ],
   "source": [
    "# The linear layer is a module that applies a linear transformation on the input using its stored weights and biases.\n",
    "layer1 = nn.Linear(in_features=28*28, out_features=20)\n",
    "hidden1 = layer1(flat_image)\n",
    "print(hidden1.size())"
   ]
  },
  {
   "cell_type": "code",
   "execution_count": 24,
   "id": "50b91574-ff87-4a70-ac13-aa660a9f0b78",
   "metadata": {},
   "outputs": [
    {
     "name": "stdout",
     "output_type": "stream",
     "text": [
      "Before ReLU: tensor([[0.0000, 0.2444, 0.0000, 0.0614, 0.3624, 0.1988, 0.3124, 0.1201, 0.5258,\n",
      "         0.8654, 0.3689, 0.0000, 0.2408, 0.0147, 0.0000, 0.2005, 0.0000, 0.2627,\n",
      "         0.5090, 0.2774],\n",
      "        [0.0000, 0.0000, 0.5095, 0.1898, 0.4887, 0.0000, 0.0436, 0.0000, 0.3948,\n",
      "         0.7132, 0.0995, 0.0000, 0.0318, 0.4332, 0.2952, 0.1551, 0.0298, 0.1432,\n",
      "         0.3211, 0.2028],\n",
      "        [0.2440, 0.3671, 0.4657, 0.1987, 0.1407, 0.0000, 0.2443, 0.1953, 0.5376,\n",
      "         0.8488, 0.3239, 0.0000, 0.0000, 0.2451, 0.0000, 0.1743, 0.0135, 0.0859,\n",
      "         0.4328, 0.2283]], grad_fn=<ReluBackward0>)\n",
      "\n",
      "\n",
      "After ReLU: tensor([[0.0000, 0.2444, 0.0000, 0.0614, 0.3624, 0.1988, 0.3124, 0.1201, 0.5258,\n",
      "         0.8654, 0.3689, 0.0000, 0.2408, 0.0147, 0.0000, 0.2005, 0.0000, 0.2627,\n",
      "         0.5090, 0.2774],\n",
      "        [0.0000, 0.0000, 0.5095, 0.1898, 0.4887, 0.0000, 0.0436, 0.0000, 0.3948,\n",
      "         0.7132, 0.0995, 0.0000, 0.0318, 0.4332, 0.2952, 0.1551, 0.0298, 0.1432,\n",
      "         0.3211, 0.2028],\n",
      "        [0.2440, 0.3671, 0.4657, 0.1987, 0.1407, 0.0000, 0.2443, 0.1953, 0.5376,\n",
      "         0.8488, 0.3239, 0.0000, 0.0000, 0.2451, 0.0000, 0.1743, 0.0135, 0.0859,\n",
      "         0.4328, 0.2283]], grad_fn=<ReluBackward0>)\n"
     ]
    }
   ],
   "source": [
    "print(f\"Before ReLU: {hidden1}\\n\\n\")\n",
    "hidden1 = nn.ReLU()(hidden1)\n",
    "print(f\"After ReLU: {hidden1}\")"
   ]
  },
  {
   "cell_type": "code",
   "execution_count": 28,
   "id": "9012e40f-db3f-4cc2-8a3a-51783f99fa00",
   "metadata": {},
   "outputs": [
    {
     "data": {
      "text/plain": [
       "tensor([[ 0.2282, -0.0527, -0.1186, -0.1516,  0.1512, -0.2683,  0.1160, -0.1397,\n",
       "          0.0179,  0.0063],\n",
       "        [ 0.3164, -0.1189, -0.1200, -0.0015,  0.1750, -0.4008,  0.0502, -0.0174,\n",
       "         -0.1583, -0.0401],\n",
       "        [ 0.3710, -0.0953, -0.0272, -0.0367,  0.0030, -0.3029,  0.0360,  0.0319,\n",
       "         -0.0731, -0.1092]], grad_fn=<AddmmBackward0>)"
      ]
     },
     "execution_count": 28,
     "metadata": {},
     "output_type": "execute_result"
    }
   ],
   "source": [
    "seq_modules = nn.Sequential(\n",
    "    flatten,\n",
    "    layer1,\n",
    "    nn.ReLU(),\n",
    "    nn.Linear(20, 10)\n",
    ")\n",
    "input_image = torch.rand(3,28,28)\n",
    "logits = seq_modules(input_image)\n",
    "logits"
   ]
  },
  {
   "cell_type": "code",
   "execution_count": 29,
   "id": "5f0e2058-3664-4755-b1c4-d463bb99b5cf",
   "metadata": {},
   "outputs": [
    {
     "data": {
      "text/plain": [
       "tensor([[0.1269, 0.0958, 0.0897, 0.0868, 0.1175, 0.0773, 0.1135, 0.0879, 0.1029,\n",
       "         0.1017],\n",
       "        [0.1392, 0.0901, 0.0900, 0.1013, 0.1209, 0.0680, 0.1067, 0.0997, 0.0866,\n",
       "         0.0975],\n",
       "        [0.1459, 0.0915, 0.0980, 0.0971, 0.1010, 0.0744, 0.1044, 0.1039, 0.0936,\n",
       "         0.0903]], grad_fn=<SoftmaxBackward0>)"
      ]
     },
     "execution_count": 29,
     "metadata": {},
     "output_type": "execute_result"
    }
   ],
   "source": [
    "softmax = nn.Softmax(dim=1)\n",
    "pred_probab = softmax(logits)\n",
    "pred_probab"
   ]
  },
  {
   "cell_type": "code",
   "execution_count": 30,
   "id": "b9c07f28-8e74-459e-a795-2045d5b36acf",
   "metadata": {},
   "outputs": [
    {
     "name": "stdout",
     "output_type": "stream",
     "text": [
      "Model structure: NeuralNetwork(\n",
      "  (flatten): Flatten(start_dim=1, end_dim=-1)\n",
      "  (linear_relu_stack): Sequential(\n",
      "    (0): Linear(in_features=784, out_features=512, bias=True)\n",
      "    (1): ReLU()\n",
      "    (2): Linear(in_features=512, out_features=512, bias=True)\n",
      "    (3): ReLU()\n",
      "    (4): Linear(in_features=512, out_features=10, bias=True)\n",
      "  )\n",
      ")\n",
      "\n",
      "\n"
     ]
    },
    {
     "name": "stderr",
     "output_type": "stream",
     "text": [
      "/Users/lapuerta/mambaforge/envs/torchenv/lib/python3.10/site-packages/torch/_tensor_str.py:115: UserWarning: The operator 'aten::nonzero' is not currently supported on the MPS backend and will fall back to run on the CPU. This may have performance implications. (Triggered internally at /Users/runner/work/_temp/anaconda/conda-bld/pytorch_1670525498485/work/aten/src/ATen/mps/MPSFallback.mm:11.)\n",
      "  nonzero_finite_vals = torch.masked_select(\n"
     ]
    },
    {
     "name": "stdout",
     "output_type": "stream",
     "text": [
      "Layer: linear_relu_stack.0.weight | Size: torch.Size([512, 784]) | Values : tensor([[-0.0307, -0.0325,  0.0310,  ..., -0.0322, -0.0048,  0.0226],\n",
      "        [ 0.0150,  0.0266, -0.0354,  ..., -0.0122, -0.0215, -0.0064]],\n",
      "       device='mps:0', grad_fn=<SliceBackward0>) \n",
      "\n",
      "Layer: linear_relu_stack.0.bias | Size: torch.Size([512]) | Values : tensor([ 0.0318, -0.0096], device='mps:0', grad_fn=<SliceBackward0>) \n",
      "\n",
      "Layer: linear_relu_stack.2.weight | Size: torch.Size([512, 512]) | Values : tensor([[ 0.0145,  0.0165,  0.0162,  ...,  0.0405,  0.0299,  0.0006],\n",
      "        [ 0.0194, -0.0121,  0.0034,  ..., -0.0272,  0.0027, -0.0105]],\n",
      "       device='mps:0', grad_fn=<SliceBackward0>) \n",
      "\n",
      "Layer: linear_relu_stack.2.bias | Size: torch.Size([512]) | Values : tensor([ 0.0037, -0.0106], device='mps:0', grad_fn=<SliceBackward0>) \n",
      "\n",
      "Layer: linear_relu_stack.4.weight | Size: torch.Size([10, 512]) | Values : tensor([[ 0.0367, -0.0295,  0.0153,  ..., -0.0190,  0.0384, -0.0010],\n",
      "        [-0.0064, -0.0285, -0.0099,  ..., -0.0231, -0.0011, -0.0151]],\n",
      "       device='mps:0', grad_fn=<SliceBackward0>) \n",
      "\n",
      "Layer: linear_relu_stack.4.bias | Size: torch.Size([10]) | Values : tensor([ 0.0253, -0.0298], device='mps:0', grad_fn=<SliceBackward0>) \n",
      "\n"
     ]
    }
   ],
   "source": [
    "print(f\"Model structure: {model}\\n\\n\")\n",
    "\n",
    "for name, param in model.named_parameters():\n",
    "    print(f\"Layer: {name} | Size: {param.size()} | Values : {param[:2]} \\n\")"
   ]
  },
  {
   "cell_type": "code",
   "execution_count": 38,
   "id": "f8db53d0-f378-4f0e-a333-31c4f2c34310",
   "metadata": {},
   "outputs": [
    {
     "data": {
      "text/plain": [
       "(torch.Size([2, 3]),\n",
       " torch.Size([2, 3]),\n",
       " torch.Size([2, 3]),\n",
       " torch.Size([2, 3]))"
      ]
     },
     "execution_count": 38,
     "metadata": {},
     "output_type": "execute_result"
    }
   ],
   "source": [
    "# Create a list of 4 tensors with the same shape\n",
    "tensors = [torch.ones(2, 3), torch.zeros(2, 3), torch.ones(2, 3), torch.rand(2, 3)]\n",
    "tensors[0].shape, tensors[1].shape, tensors[2].shape, tensors[3].shape"
   ]
  },
  {
   "cell_type": "code",
   "execution_count": 39,
   "id": "d7dc91b5-541c-4d21-8b58-a41d11f6a4ea",
   "metadata": {},
   "outputs": [
    {
     "name": "stdout",
     "output_type": "stream",
     "text": [
      "torch.Size([4, 2, 3])\n"
     ]
    }
   ],
   "source": [
    "# Concatenate the tensors along a new dimension using stack\n",
    "stacked = torch.stack(tensors)\n",
    "\n",
    "print(stacked.shape)  # Output: torch.Size([3, 2, 3])"
   ]
  },
  {
   "cell_type": "code",
   "execution_count": 40,
   "id": "8db12067-186f-453f-9d23-4ae60c27e36f",
   "metadata": {},
   "outputs": [
    {
     "data": {
      "text/plain": [
       "tensor([[[1.0000, 1.0000, 1.0000],\n",
       "         [1.0000, 1.0000, 1.0000]],\n",
       "\n",
       "        [[0.0000, 0.0000, 0.0000],\n",
       "         [0.0000, 0.0000, 0.0000]],\n",
       "\n",
       "        [[1.0000, 1.0000, 1.0000],\n",
       "         [1.0000, 1.0000, 1.0000]],\n",
       "\n",
       "        [[0.0560, 0.2154, 0.6622],\n",
       "         [0.5136, 0.3051, 0.0882]]])"
      ]
     },
     "execution_count": 40,
     "metadata": {},
     "output_type": "execute_result"
    }
   ],
   "source": [
    "stacked"
   ]
  },
  {
   "cell_type": "code",
   "execution_count": 43,
   "id": "25abc308-be89-4cb1-90e3-19e26cea5b49",
   "metadata": {},
   "outputs": [
    {
     "data": {
      "text/plain": [
       "torch.Size([2, 4, 3])"
      ]
     },
     "execution_count": 43,
     "metadata": {},
     "output_type": "execute_result"
    }
   ],
   "source": [
    "stacked2 = torch.stack(tensors, dim=1)\n",
    "stacked2.shape"
   ]
  },
  {
   "cell_type": "code",
   "execution_count": 44,
   "id": "8f713748-03fc-41cc-a7c7-b75732567d0d",
   "metadata": {},
   "outputs": [
    {
     "data": {
      "text/plain": [
       "tensor([[[1.0000, 1.0000, 1.0000],\n",
       "         [0.0000, 0.0000, 0.0000],\n",
       "         [1.0000, 1.0000, 1.0000],\n",
       "         [0.0560, 0.2154, 0.6622]],\n",
       "\n",
       "        [[1.0000, 1.0000, 1.0000],\n",
       "         [0.0000, 0.0000, 0.0000],\n",
       "         [1.0000, 1.0000, 1.0000],\n",
       "         [0.5136, 0.3051, 0.0882]]])"
      ]
     },
     "execution_count": 44,
     "metadata": {},
     "output_type": "execute_result"
    }
   ],
   "source": [
    "stacked2"
   ]
  }
 ],
 "metadata": {
  "kernelspec": {
   "display_name": "Python 3 (ipykernel)",
   "language": "python",
   "name": "python3"
  },
  "language_info": {
   "codemirror_mode": {
    "name": "ipython",
    "version": 3
   },
   "file_extension": ".py",
   "mimetype": "text/x-python",
   "name": "python",
   "nbconvert_exporter": "python",
   "pygments_lexer": "ipython3",
   "version": "3.10.8"
  }
 },
 "nbformat": 4,
 "nbformat_minor": 5
}
